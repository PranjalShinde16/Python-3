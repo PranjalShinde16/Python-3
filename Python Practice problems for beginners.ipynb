{
 "cells": [
  {
   "cell_type": "markdown",
   "id": "68844d5a",
   "metadata": {},
   "source": [
    "Calculate Simple Interest"
   ]
  },
  {
   "cell_type": "code",
   "execution_count": 1,
   "id": "cd6fffeb",
   "metadata": {},
   "outputs": [
    {
     "name": "stdout",
     "output_type": "stream",
     "text": [
      "24.0\n"
     ]
    }
   ],
   "source": [
    "p = 100\n",
    "r = 12\n",
    "t = 2\n",
    "si = (p * r * t)/100\n",
    "print(si)"
   ]
  },
  {
   "cell_type": "markdown",
   "id": "30ac25a3",
   "metadata": {},
   "source": [
    "Farenheit to Celcius conversion"
   ]
  },
  {
   "cell_type": "code",
   "execution_count": 2,
   "id": "24bac358",
   "metadata": {},
   "outputs": [
    {
     "name": "stdout",
     "output_type": "stream",
     "text": [
      "37.77777777777778\n"
     ]
    }
   ],
   "source": [
    "f = 100\n",
    "c = (f-32)*(5/9)\n",
    "print(c)"
   ]
  },
  {
   "cell_type": "markdown",
   "id": "6c153cc1",
   "metadata": {},
   "source": [
    "Calculate SI by taking input of p r t from user"
   ]
  },
  {
   "cell_type": "code",
   "execution_count": 1,
   "id": "6f1848ec",
   "metadata": {},
   "outputs": [
    {
     "name": "stdout",
     "output_type": "stream",
     "text": [
      "Give the value for p\n",
      "20\n",
      "Give the value for r\n",
      "10\n",
      "Give the value for t\n",
      "2\n",
      "The value of SI is  4.0\n"
     ]
    }
   ],
   "source": [
    "print(\"Give the value for p\")\n",
    "p = int(input())\n",
    "print(\"Give the value for r\")\n",
    "r = int(input())\n",
    "print(\"Give the value for t\")\n",
    "t = int(input())\n",
    "si = (p*r*t)/100\n",
    "print(\"The value of SI is \", si)"
   ]
  },
  {
   "cell_type": "markdown",
   "id": "9c96f17c",
   "metadata": {},
   "source": [
    "Conversion from F to C by taking input"
   ]
  },
  {
   "cell_type": "code",
   "execution_count": 3,
   "id": "41a71d3c",
   "metadata": {},
   "outputs": [
    {
     "name": "stdout",
     "output_type": "stream",
     "text": [
      "Give the value of F to be converted\n",
      "100\n",
      "The converted value in C is  37.77777777777778  Celcius\n"
     ]
    }
   ],
   "source": [
    "print(\"Give the value of F to be converted\")\n",
    "f = float(input())\n",
    "c = (f-32)*(5/9)\n",
    "print(\"The converted value in C is \", c,\" Celcius\")"
   ]
  },
  {
   "cell_type": "markdown",
   "id": "0a8f8f4c",
   "metadata": {},
   "source": [
    "Average of three marks"
   ]
  },
  {
   "cell_type": "code",
   "execution_count": 4,
   "id": "0abcf838",
   "metadata": {},
   "outputs": [
    {
     "name": "stdout",
     "output_type": "stream",
     "text": [
      "10\n",
      "20\n",
      "30\n",
      "20.0\n"
     ]
    }
   ],
   "source": [
    "a = int(input())\n",
    "b = int(input())\n",
    "c = int(input())\n",
    "print((a+b+c)/3)"
   ]
  },
  {
   "cell_type": "markdown",
   "id": "010fea74",
   "metadata": {},
   "source": [
    "Check if a number is even or odd"
   ]
  },
  {
   "cell_type": "code",
   "execution_count": 7,
   "id": "b31ac7e7",
   "metadata": {},
   "outputs": [
    {
     "name": "stdout",
     "output_type": "stream",
     "text": [
      "1\n",
      "n is odd\n"
     ]
    }
   ],
   "source": [
    "n = int(input())\n",
    "n = n%2\n",
    "if (n==0):\n",
    "    print(\"n is even\")\n",
    "else:\n",
    "    print(\"n is odd\")"
   ]
  },
  {
   "cell_type": "markdown",
   "id": "83934894",
   "metadata": {},
   "source": [
    "Print if both are greater than 10"
   ]
  },
  {
   "cell_type": "code",
   "execution_count": 9,
   "id": "480601d8",
   "metadata": {},
   "outputs": [
    {
     "name": "stdout",
     "output_type": "stream",
     "text": [
      "34\n",
      "50\n",
      "Yes\n"
     ]
    }
   ],
   "source": [
    "a = int(input())\n",
    "b = int(input())\n",
    "if (a>10 and b>10):\n",
    "    print(\"Yes\")\n",
    "else:\n",
    "    print(\"No\")"
   ]
  },
  {
   "cell_type": "markdown",
   "id": "260a6dc9",
   "metadata": {},
   "source": [
    "See if given number is 7 or not"
   ]
  },
  {
   "cell_type": "code",
   "execution_count": 13,
   "id": "3f368c3f",
   "metadata": {},
   "outputs": [
    {
     "name": "stdout",
     "output_type": "stream",
     "text": [
      "7.00\n",
      "Yes\n"
     ]
    }
   ],
   "source": [
    "a = float(input())\n",
    "if (a==7):\n",
    "    print(\"Yes\")\n",
    "else:\n",
    "    print(\"No\")"
   ]
  },
  {
   "cell_type": "markdown",
   "id": "3104bed8",
   "metadata": {},
   "source": [
    "Write all numbers till n, starting from 1"
   ]
  },
  {
   "cell_type": "code",
   "execution_count": 2,
   "id": "bcedb079",
   "metadata": {},
   "outputs": [
    {
     "name": "stdout",
     "output_type": "stream",
     "text": [
      "3\n",
      "0\n",
      "1\n",
      "2\n",
      "3\n"
     ]
    }
   ],
   "source": [
    "n = int(input())\n",
    "l = 0\n",
    "while l<=n:\n",
    "    print(l)\n",
    "    l = l + 1"
   ]
  },
  {
   "cell_type": "markdown",
   "id": "ab85a800",
   "metadata": {},
   "source": [
    "Code to find if a number is a prime number"
   ]
  },
  {
   "cell_type": "code",
   "execution_count": 8,
   "id": "52887a39",
   "metadata": {},
   "outputs": [
    {
     "name": "stdout",
     "output_type": "stream",
     "text": [
      "41\n",
      "Number is prime\n"
     ]
    }
   ],
   "source": [
    "n = int(input())\n",
    "count = 0\n",
    "num = 1\n",
    "while (num<=n):\n",
    "    if (n%num==0):\n",
    "        count = count + 1\n",
    "    num = num +1\n",
    "if (count>2):\n",
    "    print(\"Number is not prime\")\n",
    "elif (count==1):\n",
    "    print(\"Number is not prime nor composite\")\n",
    "else:\n",
    "    print(\"Number is prime\")"
   ]
  },
  {
   "cell_type": "markdown",
   "id": "77c4db11",
   "metadata": {},
   "source": [
    "Print a pxp matrix"
   ]
  },
  {
   "cell_type": "code",
   "execution_count": 13,
   "id": "a2e81280",
   "metadata": {},
   "outputs": [
    {
     "name": "stdout",
     "output_type": "stream",
     "text": [
      "3\n",
      "***\n",
      "***\n",
      "***\n"
     ]
    }
   ],
   "source": [
    "n = int(input())\n",
    "i = 0\n",
    "j = 0\n",
    "while(i<n):\n",
    "    j = 0\n",
    "    while(j<n):\n",
    "        print(\"*\",end='')\n",
    "        j = j + 1\n",
    "    print()\n",
    "    i = i + 1"
   ]
  },
  {
   "cell_type": "markdown",
   "id": "98246f78",
   "metadata": {},
   "source": [
    "Square pattern\n",
    "1111\n",
    "2222\n",
    "3333\n",
    "4444"
   ]
  },
  {
   "cell_type": "code",
   "execution_count": 14,
   "id": "be259102",
   "metadata": {},
   "outputs": [
    {
     "name": "stdout",
     "output_type": "stream",
     "text": [
      "3\n",
      "111\n",
      "222\n",
      "333\n"
     ]
    }
   ],
   "source": [
    "n = int(input())\n",
    "i = 1\n",
    "j = 0\n",
    "while (i<=n):\n",
    "    j = 0\n",
    "    while (j<n):\n",
    "        print(i,end='')\n",
    "        j = j+1\n",
    "    print()\n",
    "    i = i + 1"
   ]
  },
  {
   "cell_type": "markdown",
   "id": "bf4e2adc",
   "metadata": {},
   "source": [
    "Square pattern\n",
    "1234\n",
    "1234\n",
    "1234"
   ]
  },
  {
   "cell_type": "code",
   "execution_count": 15,
   "id": "f7adaee9",
   "metadata": {},
   "outputs": [
    {
     "name": "stdout",
     "output_type": "stream",
     "text": [
      "3\n",
      "123\n",
      "123\n",
      "123\n"
     ]
    }
   ],
   "source": [
    "n = int(input())\n",
    "i = 1\n",
    "j = 1\n",
    "while(i<=n):\n",
    "    j = 1\n",
    "    while(j<=n):\n",
    "        print(j,end='')\n",
    "        j = j+1\n",
    "    print()\n",
    "    i = i + 1"
   ]
  },
  {
   "cell_type": "markdown",
   "id": "d79c214d",
   "metadata": {},
   "source": [
    "Square pattern\n",
    "4321\n",
    "4321\n",
    "4321\n",
    "4321"
   ]
  },
  {
   "cell_type": "code",
   "execution_count": 17,
   "id": "833cfed6",
   "metadata": {},
   "outputs": [
    {
     "name": "stdout",
     "output_type": "stream",
     "text": [
      "3\n",
      "321\n",
      "321\n",
      "321\n"
     ]
    }
   ],
   "source": [
    "n = int(input())\n",
    "i = 1\n",
    "j = 1\n",
    "while(i<=n):\n",
    "    j = n\n",
    "    while(j>0):\n",
    "        print(j,end='')\n",
    "        j = j - 1\n",
    "    print()\n",
    "    i = i + 1"
   ]
  },
  {
   "cell_type": "markdown",
   "id": "71b69a20",
   "metadata": {},
   "source": [
    "Triangular pattern\n",
    "1\n",
    "12\n",
    "123\n",
    "1234"
   ]
  },
  {
   "cell_type": "code",
   "execution_count": 18,
   "id": "e625004b",
   "metadata": {},
   "outputs": [
    {
     "name": "stdout",
     "output_type": "stream",
     "text": [
      "3\n",
      "1\n",
      "12\n",
      "123\n"
     ]
    }
   ],
   "source": [
    "n = int(input())\n",
    "i = 1\n",
    "j = 1\n",
    "while(i<=n):\n",
    "    j = 1\n",
    "    while(j<=i):\n",
    "        print(j,end='')\n",
    "        j = j + 1\n",
    "    print()\n",
    "    i = i + 1"
   ]
  },
  {
   "cell_type": "markdown",
   "id": "1997eb52",
   "metadata": {},
   "source": [
    "Triangular pattern\n",
    "1\n",
    "23\n",
    "345\n",
    "4567"
   ]
  },
  {
   "cell_type": "code",
   "execution_count": 2,
   "id": "2458ede2",
   "metadata": {},
   "outputs": [
    {
     "name": "stdout",
     "output_type": "stream",
     "text": [
      "3\n",
      "1\n",
      "23\n",
      "345\n"
     ]
    }
   ],
   "source": [
    "n = int(input())\n",
    "i = 1\n",
    "j = 1\n",
    "k = 1\n",
    "while(i<=n):\n",
    "    j = i\n",
    "    p = 1\n",
    "    while(p<=i):\n",
    "        print(j,end='')\n",
    "        j = j + 1\n",
    "        p = p + 1\n",
    "    print()\n",
    "    i = i + 1"
   ]
  },
  {
   "cell_type": "markdown",
   "id": "ee907f9b",
   "metadata": {},
   "source": [
    "Triangular pattern\n",
    "1\n",
    "23\n",
    "456\n",
    "7890"
   ]
  },
  {
   "cell_type": "code",
   "execution_count": 3,
   "id": "12f5ee85",
   "metadata": {},
   "outputs": [
    {
     "name": "stdout",
     "output_type": "stream",
     "text": [
      "3\n",
      "1\n",
      "23\n",
      "456\n"
     ]
    }
   ],
   "source": [
    "n = int(input())\n",
    "i = 1\n",
    "j = 1\n",
    "while(i<=n):\n",
    "    p = 1\n",
    "    while(p<=i):\n",
    "        print(j,end='')\n",
    "        j = j + 1\n",
    "        p = p + 1\n",
    "    print()\n",
    "    i = i + 1"
   ]
  },
  {
   "cell_type": "markdown",
   "id": "b8cae7a3",
   "metadata": {},
   "source": [
    "Character pattern \n",
    "ABCD\n",
    "ABCD\n",
    "ABCD\n",
    "ABCD"
   ]
  },
  {
   "cell_type": "code",
   "execution_count": 6,
   "id": "0573eb7a",
   "metadata": {},
   "outputs": [
    {
     "name": "stdout",
     "output_type": "stream",
     "text": [
      "3\n",
      "ABC\n",
      "ABC\n",
      "ABC\n"
     ]
    }
   ],
   "source": [
    "n = int(input())\n",
    "i = 1\n",
    "j = 1\n",
    "while(i<=n):\n",
    "    j = 1\n",
    "    a = 'A'\n",
    "    while(j<=n):\n",
    "        print(a,end='')\n",
    "        a = chr( ord(a) + 1 )\n",
    "        j = j + 1\n",
    "    print()\n",
    "    i = i + 1"
   ]
  },
  {
   "cell_type": "markdown",
   "id": "11003b2b",
   "metadata": {},
   "source": [
    "Character pattern\n",
    "ABCD\n",
    "BCDE\n",
    "CDEF\n",
    "DEFG"
   ]
  },
  {
   "cell_type": "code",
   "execution_count": 7,
   "id": "d2eae412",
   "metadata": {},
   "outputs": [
    {
     "name": "stdout",
     "output_type": "stream",
     "text": [
      "3\n",
      "ABC\n",
      "BCD\n",
      "CDE\n"
     ]
    }
   ],
   "source": [
    "n = int(input())\n",
    "i = 1\n",
    "j = 1\n",
    "a = 'A'\n",
    "while(i<=n):\n",
    "    a = 'A'\n",
    "    a = chr( ord(a) + i - 1 )\n",
    "    j = 1\n",
    "    while(j<=n):\n",
    "        print(a,end='')\n",
    "        a = chr( ord(a) + 1 )\n",
    "        j = j + 1\n",
    "    print()\n",
    "    i = i + 1"
   ]
  },
  {
   "cell_type": "markdown",
   "id": "c2a7304a",
   "metadata": {},
   "source": [
    "Inverted Triangle\n",
    "****\n",
    "***\n",
    "**\n",
    "*"
   ]
  },
  {
   "cell_type": "code",
   "execution_count": 1,
   "id": "3471627a",
   "metadata": {},
   "outputs": [
    {
     "name": "stdout",
     "output_type": "stream",
     "text": [
      "3\n",
      "***\n",
      "**\n",
      "*\n"
     ]
    }
   ],
   "source": [
    "n = int(input())\n",
    "i = 1\n",
    "j = 1\n",
    "while(i<=n):\n",
    "    j = n - i + 1\n",
    "    while(j>0):\n",
    "        print('*',end='')\n",
    "        j = j - 1\n",
    "    print()\n",
    "    i = i + 1"
   ]
  },
  {
   "cell_type": "markdown",
   "id": "daa37021",
   "metadata": {},
   "source": [
    "Inverted Triangle\n",
    "1111\n",
    "222\n",
    "33\n",
    "4"
   ]
  },
  {
   "cell_type": "code",
   "execution_count": 2,
   "id": "21d4ce9f",
   "metadata": {},
   "outputs": [
    {
     "name": "stdout",
     "output_type": "stream",
     "text": [
      "3\n",
      "111\n",
      "22\n",
      "3\n"
     ]
    }
   ],
   "source": [
    "n = int(input())\n",
    "i = 1\n",
    "j = 1\n",
    "while(i<=n):\n",
    "    j = n - i + 1\n",
    "    while(j>0):\n",
    "        print(i,end='')\n",
    "        j = j - 1\n",
    "    print()\n",
    "    i = i + 1"
   ]
  },
  {
   "cell_type": "markdown",
   "id": "e0e9219b",
   "metadata": {},
   "source": [
    "Reversed triangle\n",
    "   *\n",
    "  **\n",
    " ***\n",
    "****"
   ]
  },
  {
   "cell_type": "code",
   "execution_count": 5,
   "id": "511cc040",
   "metadata": {},
   "outputs": [
    {
     "name": "stdout",
     "output_type": "stream",
     "text": [
      "3\n",
      "  *\n",
      " **\n",
      "***\n"
     ]
    }
   ],
   "source": [
    "n = int(input())\n",
    "i = 1\n",
    "j = 1\n",
    "while(i<=n):\n",
    "    j = 1\n",
    "    while(j<=n-i):\n",
    "        print(' ',end='')\n",
    "        j = j + 1\n",
    "    while(j<=n):\n",
    "        print('*',end='')\n",
    "        j = j + 1\n",
    "    print()\n",
    "    i = i + 1"
   ]
  },
  {
   "cell_type": "markdown",
   "id": "dfe17e5b",
   "metadata": {},
   "source": [
    "Reversed Triangle\n",
    "   1\n",
    "  12\n",
    " 123\n",
    "1234"
   ]
  },
  {
   "cell_type": "code",
   "execution_count": 8,
   "id": "ba446d80",
   "metadata": {},
   "outputs": [
    {
     "name": "stdout",
     "output_type": "stream",
     "text": [
      "3\n",
      "  1\n",
      " 12\n",
      "123\n"
     ]
    }
   ],
   "source": [
    "n = int(input())\n",
    "i = 1\n",
    "j = 1\n",
    "while(i<=n):\n",
    "    j = 1\n",
    "    p = 1\n",
    "    while(j<=n-i):\n",
    "        print(' ',end='')\n",
    "        j = j + 1\n",
    "    while(j<=n):\n",
    "        print(p,end='')\n",
    "        j = j + 1\n",
    "        p = p + 1\n",
    "    print()\n",
    "    i = i + 1"
   ]
  },
  {
   "cell_type": "markdown",
   "id": "4946aecc",
   "metadata": {},
   "source": [
    "Isosceles Pattern\n",
    "   1   \n",
    "  121\n",
    " 12321\n",
    "1234321"
   ]
  },
  {
   "cell_type": "code",
   "execution_count": 12,
   "id": "7a2c4927",
   "metadata": {},
   "outputs": [
    {
     "name": "stdout",
     "output_type": "stream",
     "text": [
      "3\n",
      "  1\n",
      " 121\n",
      "12321\n"
     ]
    }
   ],
   "source": [
    "n = int(input())\n",
    "i = 1\n",
    "j = 1\n",
    "p = 1\n",
    "while(i<=n):\n",
    "    j = 1\n",
    "    while(j<=n-i):\n",
    "        print(' ',end='')\n",
    "        j = j + 1\n",
    "    j = 1\n",
    "    while(j<=p):\n",
    "        print(j,end='')\n",
    "        j = j + 1\n",
    "    j = j - 2\n",
    "    while(j>=1):\n",
    "        print(j,end='')\n",
    "        j = j - 1\n",
    "    p = p + 1\n",
    "    print()\n",
    "    i = i + 1"
   ]
  },
  {
   "cell_type": "markdown",
   "id": "3e31f7e5",
   "metadata": {},
   "source": [
    "Isosceles Pattern\n",
    "   1\n",
    "  232\n",
    " 34543\n",
    "4567654"
   ]
  },
  {
   "cell_type": "code",
   "execution_count": 14,
   "id": "bde46d3d",
   "metadata": {},
   "outputs": [
    {
     "name": "stdout",
     "output_type": "stream",
     "text": [
      "3\n",
      "  1\n",
      " 232\n",
      "34543\n"
     ]
    }
   ],
   "source": [
    "n = int(input())\n",
    "i = 1\n",
    "j = 1\n",
    "while(i<=n):\n",
    "    j = 1\n",
    "    while(j<=n-i):\n",
    "        print(' ',end='')\n",
    "        j = j + 1\n",
    "    j = i\n",
    "    while(j<=(i*2)-1):\n",
    "        print(j,end='')\n",
    "        j = j + 1\n",
    "    j = j - 2\n",
    "    while(j>=i):\n",
    "        print(j,end='')\n",
    "        j = j - 1\n",
    "    print()\n",
    "    i = i + 1"
   ]
  },
  {
   "cell_type": "markdown",
   "id": "f65475e6",
   "metadata": {},
   "source": [
    "Diamond Pattern\n",
    "   *\n",
    "  ***\n",
    " *****\n",
    "*******\n",
    " *****\n",
    "  ***\n",
    "   *"
   ]
  },
  {
   "cell_type": "code",
   "execution_count": 16,
   "id": "68f6ca1b",
   "metadata": {},
   "outputs": [
    {
     "name": "stdout",
     "output_type": "stream",
     "text": [
      "3\n",
      "  *\n",
      " ***\n",
      "*****\n",
      " ***\n",
      "  *\n"
     ]
    }
   ],
   "source": [
    "n = int(input())\n",
    "i = 1\n",
    "j = 1\n",
    "while(i<=n):\n",
    "    j = 1\n",
    "    while(j<=n-i):\n",
    "        print(' ',end='')\n",
    "        j = j + 1\n",
    "    p = (2*i)-1\n",
    "    j = 1\n",
    "    while(j<=p):\n",
    "        print('*',end='')\n",
    "        j = j + 1\n",
    "    print()\n",
    "    i = i + 1\n",
    "i = (n - 1)\n",
    "while(i>0):\n",
    "    j = 1\n",
    "    while(j<=n-i):\n",
    "        print(' ',end='')\n",
    "        j = j + 1\n",
    "    p = (i*2) - 1\n",
    "    j = 1\n",
    "    while(j<=p):\n",
    "        print('*',end='')\n",
    "        j = j + 1\n",
    "    print()\n",
    "    i = i - 1"
   ]
  },
  {
   "cell_type": "markdown",
   "id": "3ad9f50e",
   "metadata": {},
   "source": [
    "Arrow Pattern\n",
    "*\n",
    " * *\n",
    "  * * *\n",
    "   * * * * \n",
    "  * * *\n",
    " * *\n",
    "*"
   ]
  },
  {
   "cell_type": "code",
   "execution_count": 20,
   "id": "243a0352",
   "metadata": {},
   "outputs": [
    {
     "name": "stdout",
     "output_type": "stream",
     "text": [
      "3\n",
      "* \n",
      " * * \n",
      "  * * * \n",
      " * * \n",
      "* \n"
     ]
    }
   ],
   "source": [
    "n = int(input())\n",
    "i = 1\n",
    "j = 1\n",
    "while(i<=n):\n",
    "    j = 1\n",
    "    while(j<i):\n",
    "        print(' ',end='')\n",
    "        j = j + 1\n",
    "    j = 1\n",
    "    while(j<=i):\n",
    "        print('* ',end='')\n",
    "        j = j + 1\n",
    "    print()\n",
    "    i = i + 1\n",
    "i = n - 1\n",
    "while(i>0):\n",
    "    j = 1\n",
    "    while(j<i):\n",
    "        print(' ',end='')\n",
    "        j = j + 1\n",
    "    j = 1\n",
    "    while(j<=i):\n",
    "        print('* ',end='')\n",
    "        j = j + 1\n",
    "    print()\n",
    "    i = i - 1"
   ]
  },
  {
   "cell_type": "markdown",
   "id": "2df703b8",
   "metadata": {},
   "source": [
    "Print all multiples of 3 from a to b"
   ]
  },
  {
   "cell_type": "code",
   "execution_count": 1,
   "id": "a0d8189e",
   "metadata": {},
   "outputs": [
    {
     "name": "stdout",
     "output_type": "stream",
     "text": [
      "1\n",
      "5\n",
      "3  "
     ]
    }
   ],
   "source": [
    "a = int(input())\n",
    "b = int(input())\n",
    "for i in range(a,b+1,1):\n",
    "    if(i%3==0):\n",
    "        print(i,\" \",end='')"
   ]
  },
  {
   "cell_type": "markdown",
   "id": "20f70fff",
   "metadata": {},
   "source": [
    "Find if a number is prime or not using for loop"
   ]
  },
  {
   "cell_type": "code",
   "execution_count": 5,
   "id": "7be80fa0",
   "metadata": {},
   "outputs": [
    {
     "name": "stdout",
     "output_type": "stream",
     "text": [
      "41\n",
      "number is a prime number\n"
     ]
    }
   ],
   "source": [
    "n = int(input())\n",
    "flag = True\n",
    "for i in range(2,n,1):\n",
    "    if(n%i==0):\n",
    "        print(\"number is not prime\")\n",
    "        flag = False\n",
    "if(flag==True):\n",
    "    print(\"number is a prime number\")"
   ]
  },
  {
   "cell_type": "markdown",
   "id": "5ad6d134",
   "metadata": {},
   "source": [
    "   1\n",
    "  232\n",
    " 34543\n",
    "4567654"
   ]
  },
  {
   "cell_type": "code",
   "execution_count": 10,
   "id": "7b82521e",
   "metadata": {},
   "outputs": [
    {
     "name": "stdout",
     "output_type": "stream",
     "text": [
      "3\n",
      "  1\n",
      " 232\n",
      "34543\n"
     ]
    }
   ],
   "source": [
    "n = int(input())\n",
    "for i in range(1,n+1,1):\n",
    "    for j in range(1,n-i+1,1):\n",
    "        print(' ',end='')\n",
    "    for j in range(i,(2*i),1):\n",
    "        print(j,end='')\n",
    "    for j in range((2*i)-2,i-1,-1):\n",
    "        print(j,end='')\n",
    "    print()"
   ]
  },
  {
   "cell_type": "markdown",
   "id": "3ac3e81e",
   "metadata": {},
   "source": [
    "Function to determine if a number is prime or not"
   ]
  },
  {
   "cell_type": "code",
   "execution_count": 3,
   "id": "93459ff7",
   "metadata": {},
   "outputs": [
    {
     "name": "stdout",
     "output_type": "stream",
     "text": [
      "2\n",
      "True\n"
     ]
    }
   ],
   "source": [
    "def isPrime(n):\n",
    "    for i in range(2,n,1):\n",
    "        if(n%i==0):\n",
    "            break\n",
    "    else:\n",
    "        return True\n",
    "    return False\n",
    "n = int(input())\n",
    "b = isPrime(n)\n",
    "print(b)"
   ]
  },
  {
   "cell_type": "markdown",
   "id": "38b42466",
   "metadata": {},
   "source": [
    "Print all prime numbers from 2 to n"
   ]
  },
  {
   "cell_type": "code",
   "execution_count": 9,
   "id": "4961dab6",
   "metadata": {},
   "outputs": [
    {
     "name": "stdout",
     "output_type": "stream",
     "text": [
      "10\n",
      "2\n",
      "3\n",
      "5\n",
      "7\n"
     ]
    }
   ],
   "source": [
    "def isprime(n):\n",
    "    for i in range(2,n,1):\n",
    "        if(n%i==0):\n",
    "            break\n",
    "    else:\n",
    "        return True\n",
    "    return False\n",
    "def printprime(n):\n",
    "    for i in range(2,n+1,1):\n",
    "        p = isprime(i)\n",
    "        if p:\n",
    "            print(i)\n",
    "n = int(input())\n",
    "printprime(n)"
   ]
  },
  {
   "cell_type": "markdown",
   "id": "29b1ccac",
   "metadata": {},
   "source": [
    "Linear search"
   ]
  },
  {
   "cell_type": "code",
   "execution_count": 2,
   "id": "50a095a6",
   "metadata": {},
   "outputs": [
    {
     "name": "stdout",
     "output_type": "stream",
     "text": [
      "7\n",
      "1 2 3 4 5 6 7\n",
      "8\n",
      "-1\n"
     ]
    }
   ],
   "source": [
    "n = int(input())\n",
    "li = [int(x) for x in input().split()]\n",
    "k = int(input())\n",
    "for i in range(0,n,1):\n",
    "    if(li[i]==k):\n",
    "        print(i)\n",
    "        break\n",
    "else:\n",
    "    print(-1)"
   ]
  },
  {
   "cell_type": "markdown",
   "id": "3793d641",
   "metadata": {},
   "source": [
    "Linear search using Functions"
   ]
  },
  {
   "cell_type": "code",
   "execution_count": 6,
   "id": "eb278f03",
   "metadata": {},
   "outputs": [
    {
     "name": "stdout",
     "output_type": "stream",
     "text": [
      "7\n",
      "1 2 3 4 5 6 7\n",
      "8\n",
      "-1\n"
     ]
    }
   ],
   "source": [
    "def find(k,li):\n",
    "    for i in range(0,n,1):\n",
    "        if(li[i]==k):\n",
    "            return i\n",
    "            break\n",
    "    return -1\n",
    "n = int(input())\n",
    "li = [int(x) for x in input().split()]\n",
    "l = int(input())\n",
    "index = find(l,li)\n",
    "print(index)"
   ]
  },
  {
   "cell_type": "markdown",
   "id": "1034aee4",
   "metadata": {},
   "source": [
    "Reversing a list"
   ]
  },
  {
   "cell_type": "code",
   "execution_count": 11,
   "id": "14b6ba9b",
   "metadata": {},
   "outputs": [
    {
     "name": "stdout",
     "output_type": "stream",
     "text": [
      "5\n",
      "1 2 3 4 5\n",
      "[1, 2, 3, 4, 5]\n",
      "[5, 4, 3, 2, 1]\n"
     ]
    }
   ],
   "source": [
    "def reverse(li,k):\n",
    "    n = k\n",
    "    n = n//2\n",
    "    for i in range(0,n,1):\n",
    "        li[i],li[k-i-1] = li[k-i-1],li[i]\n",
    "    return li\n",
    "n = int(input())\n",
    "li = [int(x) for x in input().split()]\n",
    "print(li)\n",
    "reverse(li,n)\n",
    "print(li)"
   ]
  },
  {
   "cell_type": "code",
   "execution_count": 13,
   "id": "e968da70",
   "metadata": {},
   "outputs": [
    {
     "name": "stdout",
     "output_type": "stream",
     "text": [
      "[6, 5, 4, 3, 2, 1]\n"
     ]
    }
   ],
   "source": [
    "li = [1,2,3,4,5,6]\n",
    "li = li[::-1]\n",
    "print(li)"
   ]
  },
  {
   "cell_type": "markdown",
   "id": "ee2c9058",
   "metadata": {},
   "source": [
    "Find the unique number "
   ]
  },
  {
   "cell_type": "code",
   "execution_count": 17,
   "id": "a61dd7a6",
   "metadata": {},
   "outputs": [
    {
     "name": "stdout",
     "output_type": "stream",
     "text": [
      "2\n",
      "5\n",
      "1 3 1 3 4\n",
      "4\n",
      "7\n",
      "1 4 5 6 4 5 6\n",
      "1\n"
     ]
    }
   ],
   "source": [
    "#O(nlogn) complexity\n",
    "def solve():\n",
    "    n = int(input())\n",
    "    li = [int(x) for x in input().split()]\n",
    "    li.sort()\n",
    "    for i in range(1,n-1,1):\n",
    "        if(li[i]!=li[i+1] and li[i]!=li[i-1]):\n",
    "            print(li[i])\n",
    "            break\n",
    "    else:\n",
    "        if(n==1):\n",
    "            print(li[0])\n",
    "        elif(li[0]!=li[1]):\n",
    "            print(li[0])\n",
    "        elif(li[n-1]!=li[n-2]):\n",
    "            print(li[n-1])\n",
    "t = int(input())\n",
    "while t>0:\n",
    "    solve()\n",
    "    t = t - 1"
   ]
  },
  {
   "cell_type": "markdown",
   "id": "f5cf964b",
   "metadata": {},
   "source": [
    "A property of XOR is:\n",
    "    XOR of a number with itself is 0\n",
    "    XOR of a number with 0 is the number itself"
   ]
  },
  {
   "cell_type": "code",
   "execution_count": 24,
   "id": "354ae003",
   "metadata": {},
   "outputs": [
    {
     "name": "stdout",
     "output_type": "stream",
     "text": [
      "2\n",
      "5\n",
      "2 4 7 2 7\n",
      "4\n",
      "9\n",
      "1 3 1 3 6 6 7 10 7\n",
      "10\n"
     ]
    }
   ],
   "source": [
    "#O(N) complexity\n",
    "def solve():\n",
    "    n = int(input())\n",
    "    li = [int(x) for x in input().split()]\n",
    "    ans = 0\n",
    "    for i in li:\n",
    "        ans = ans ^ i\n",
    "    print(ans)\n",
    "t = int(input())\n",
    "while t>0:\n",
    "    solve()\n",
    "    t = t - 1"
   ]
  },
  {
   "cell_type": "markdown",
   "id": "3d06f557",
   "metadata": {},
   "source": [
    "Find the number which is duplicate"
   ]
  },
  {
   "cell_type": "code",
   "execution_count": 33,
   "id": "9c19dd05",
   "metadata": {},
   "outputs": [
    {
     "name": "stdout",
     "output_type": "stream",
     "text": [
      "2\n",
      "5\n",
      "0 2 1 3 1\n",
      "1\n",
      "7\n",
      "0 3 1 5 4 3 2\n",
      "3\n"
     ]
    }
   ],
   "source": [
    "def findsum(n):\n",
    "    sum = 0\n",
    "    for i in range(0,n-1,1):\n",
    "        sum = sum + i\n",
    "    return sum\n",
    "def solve():\n",
    "    n = int(input())\n",
    "    li = [int(x) for x in input().split()]\n",
    "    sum = 0\n",
    "    for i in range(0,n,1):\n",
    "        sum = sum + li[i]\n",
    "    sum2 = findsum(n)\n",
    "    print(sum - sum2)\n",
    "t = int(input())\n",
    "while t>0:\n",
    "    solve()\n",
    "    t = t - 1"
   ]
  },
  {
   "cell_type": "markdown",
   "id": "35b527d9",
   "metadata": {},
   "source": [
    "Find the intersection of arrays"
   ]
  },
  {
   "cell_type": "code",
   "execution_count": 34,
   "id": "07ad10b0",
   "metadata": {},
   "outputs": [
    {
     "name": "stdout",
     "output_type": "stream",
     "text": [
      "1\n",
      "4\n",
      "2 6 1 2\n",
      "5\n",
      "1 2 3 4 2\n",
      "2 1 2 "
     ]
    }
   ],
   "source": [
    "#O(M*N) complexity\n",
    "def solve():\n",
    "    n = int(input())\n",
    "    li1 = [int(x) for x in input().split()]\n",
    "    m = int(input())\n",
    "    li2 = [int(x) for x in input().split()]\n",
    "    for i in range(0,n,1):\n",
    "        for j in range(0,m,1):\n",
    "            if(li1[i]==li2[j]):\n",
    "                print(li1[i],end=' ')\n",
    "                li1[i] = -1\n",
    "                li2[j] = -1\n",
    "                break\n",
    "t = int(input())\n",
    "while(t>0):\n",
    "    solve()\n",
    "    t = t - 1"
   ]
  },
  {
   "cell_type": "markdown",
   "id": "5cc4fb46",
   "metadata": {},
   "source": [
    "Find number of pairs in list which sum up to X"
   ]
  },
  {
   "cell_type": "code",
   "execution_count": 39,
   "id": "f259712f",
   "metadata": {},
   "outputs": [
    {
     "name": "stdout",
     "output_type": "stream",
     "text": [
      "2\n",
      "9\n",
      "1 3 6 2 5 4 3 2 4\n",
      "12\n",
      "0\n",
      "6\n",
      "2 8 10 5 -2 5\n",
      "10\n",
      "2\n"
     ]
    }
   ],
   "source": [
    "#O(N^2) complexity\n",
    "def solve():\n",
    "    n = int(input())\n",
    "    li = [int(x) for x in input().split()]\n",
    "    sum = int(input())\n",
    "    count = 0\n",
    "    for i in range(0,n,1):\n",
    "        for j in range(i+1,n,1):\n",
    "            #print(li[i],\" \",li[j])\n",
    "            if(li[i]+li[j]==sum):\n",
    "                count = count + 1\n",
    "    print(count)\n",
    "t = int(input())\n",
    "while(t>0):\n",
    "    solve()\n",
    "    t = t - 1"
   ]
  },
  {
   "cell_type": "markdown",
   "id": "7ccf0409",
   "metadata": {},
   "source": [
    "Find numver of triplets adding to X"
   ]
  },
  {
   "cell_type": "code",
   "execution_count": 41,
   "id": "a2c8af12",
   "metadata": {},
   "outputs": [
    {
     "name": "stdout",
     "output_type": "stream",
     "text": [
      "2\n",
      "7\n",
      "1 2 3 4 5 6 7\n",
      "19\n",
      "0\n",
      "9\n",
      "2 -5 8 -6 0 5 10 11 -3\n",
      "10\n",
      "5\n"
     ]
    }
   ],
   "source": [
    "#O(N^3) complexity\n",
    "def solve():\n",
    "    n = int(input())\n",
    "    li = [int(x) for x in input().split()]\n",
    "    sum = int(input())\n",
    "    count = 0\n",
    "    for i in range(0,n,1):\n",
    "        for j in range(i+1,n,1):\n",
    "            for k in range(j+1,n,1):\n",
    "                #print(li[i],\" \",li[j])\n",
    "                if(li[i]+li[j]+li[k]==sum):\n",
    "                    count = count + 1\n",
    "    print(count)\n",
    "t = int(input())\n",
    "while(t>0):\n",
    "    solve()\n",
    "    t = t - 1"
   ]
  },
  {
   "cell_type": "markdown",
   "id": "d3a6c084",
   "metadata": {},
   "source": [
    "Sort an array containing 0 and 1 only in ascending order in O(N)"
   ]
  },
  {
   "cell_type": "code",
   "execution_count": 44,
   "id": "acd3bdf7",
   "metadata": {},
   "outputs": [
    {
     "name": "stdout",
     "output_type": "stream",
     "text": [
      "2\n",
      "8\n",
      "1 0 1 1 0 1 0 1\n",
      "[0, 0, 0, 1, 1, 1, 1, 1]\n",
      "5\n",
      "0 1 0 1 0\n",
      "[0, 0, 0, 1, 1]\n"
     ]
    }
   ],
   "source": [
    "def solve():\n",
    "    n = int(input())\n",
    "    li = [int(x) for x in input().split()]\n",
    "    i = 0\n",
    "    j = n-1\n",
    "    while(i<j):\n",
    "        while(li[i]==0):\n",
    "            i = i + 1\n",
    "        while(li[j]==1):\n",
    "            j = j - 1\n",
    "        if(i>=j):\n",
    "            break\n",
    "        li[i],li[j] = li[j],li[i]\n",
    "    print(li)\n",
    "t = int(input())\n",
    "while(t>0):\n",
    "    solve()\n",
    "    t = t - 1"
   ]
  },
  {
   "cell_type": "markdown",
   "id": "fa04a2ff",
   "metadata": {},
   "source": [
    "All zeros at the end"
   ]
  },
  {
   "cell_type": "code",
   "execution_count": 5,
   "id": "6ed5fd36",
   "metadata": {},
   "outputs": [
    {
     "name": "stdout",
     "output_type": "stream",
     "text": [
      "1\n",
      "5\n",
      "9 0 0 8 2\n",
      "[9, 8, 2, 0, 0]\n"
     ]
    }
   ],
   "source": [
    "def solve():\n",
    "    n = int(input())\n",
    "    li = [int(x) for x in input().split()]\n",
    "    i = 0\n",
    "    while(li[i]!=0):\n",
    "        i = i + 1\n",
    "    for j in range(i+1,n,1):\n",
    "        if(li[j]!=0):\n",
    "            li[j],li[i] = li[i],li[j]\n",
    "            while(li[i]!=0):\n",
    "                i = i + 1\n",
    "    print(li)\n",
    "t = int(input())\n",
    "while(t>0):\n",
    "    solve()\n",
    "    t = t - 1"
   ]
  },
  {
   "cell_type": "markdown",
   "id": "be4d2f93",
   "metadata": {},
   "source": [
    "Rotate the array"
   ]
  },
  {
   "cell_type": "code",
   "execution_count": 8,
   "id": "8e1114eb",
   "metadata": {},
   "outputs": [
    {
     "name": "stdout",
     "output_type": "stream",
     "text": [
      "2\n",
      "7\n",
      "1 2 3 4 5 6 7\n",
      "0\n",
      "[1, 2, 3, 4, 5, 6, 7]\n",
      "4\n",
      "1 2 3 4\n",
      "3\n",
      "[4, 1, 2, 3]\n"
     ]
    }
   ],
   "source": [
    "def solve():\n",
    "    n = int(input())\n",
    "    li = [int(x) for x in input().split()]\n",
    "    d = int(input())\n",
    "    ans = []\n",
    "    for i in range(d,n+d,1):\n",
    "        ans.append(li[i%n])\n",
    "    print(ans)\n",
    "t = int(input())\n",
    "while(t>0):\n",
    "    solve()\n",
    "    t = t - 1"
   ]
  },
  {
   "cell_type": "markdown",
   "id": "733330a2",
   "metadata": {},
   "source": [
    "Second largest element in the array"
   ]
  },
  {
   "cell_type": "code",
   "execution_count": 15,
   "id": "6106068a",
   "metadata": {},
   "outputs": [
    {
     "name": "stdout",
     "output_type": "stream",
     "text": [
      "2\n",
      "2\n",
      "6 6\n",
      "-2147483648\n",
      "4\n",
      "90 8 90 2\n",
      "8\n"
     ]
    }
   ],
   "source": [
    "INT_MIN = -2147483648\n",
    "def solve():\n",
    "    n = int(input())\n",
    "    li = [int(x) for x in input().split()]\n",
    "    li.sort()\n",
    "    if(n<=1 or (li[n-1]==li[n-2] and li[0]==li[n-1])):\n",
    "        print(INT_MIN)\n",
    "    else:\n",
    "        k = n - 2\n",
    "        while(li[k]==li[k+1]):\n",
    "            k = k - 1\n",
    "        print(li[k])\n",
    "t = int(input())\n",
    "while(t>0):\n",
    "    solve()\n",
    "    t = t - 1"
   ]
  },
  {
   "cell_type": "markdown",
   "id": "483f7355",
   "metadata": {},
   "source": [
    "Replacing a character in string"
   ]
  },
  {
   "cell_type": "code",
   "execution_count": 6,
   "id": "a067daf1",
   "metadata": {},
   "outputs": [
    {
     "name": "stdout",
     "output_type": "stream",
     "text": [
      "t\n",
      "u\n",
      "tuminty tiget\n",
      "uuminuy uigeu\n"
     ]
    }
   ],
   "source": [
    "str1 = input()\n",
    "str2 = input()\n",
    "str = input()\n",
    "str = str.replace(str1,str2)\n",
    "print(str)"
   ]
  },
  {
   "cell_type": "markdown",
   "id": "1fe69cb7",
   "metadata": {},
   "source": [
    "count numbers of vowels,consonants,digits and special characters in a string"
   ]
  },
  {
   "cell_type": "code",
   "execution_count": 8,
   "id": "d6e3fc5f",
   "metadata": {},
   "outputs": [
    {
     "name": "stdout",
     "output_type": "stream",
     "text": [
      "aajfajeoiuretya87ygg78hahpp;ipjp'jgeriyeg\n",
      "14 21 4 2\n"
     ]
    }
   ],
   "source": [
    "def solve(str):\n",
    "    v = 0\n",
    "    c = 0\n",
    "    d = 0\n",
    "    s = 0\n",
    "    for char in str:\n",
    "        char = char.lower()\n",
    "        if(char<='z' and char>='A'):\n",
    "            if(char=='a' or char=='e' or char=='i' or char=='o' or char=='u'):\n",
    "                v = v + 1\n",
    "            else:\n",
    "                c = c + 1\n",
    "        elif(char>='0' and char<='9'):\n",
    "            d = d + 1\n",
    "        else:\n",
    "            s = s + 1\n",
    "    return v,c,d,s\n",
    "str = input()\n",
    "v,c,d,s = solve(str)\n",
    "print(v,c,d,s)"
   ]
  },
  {
   "cell_type": "markdown",
   "id": "7f8f84ec",
   "metadata": {},
   "source": [
    "Check Whether the two strings are permutation of each other or not"
   ]
  },
  {
   "cell_type": "code",
   "execution_count": 10,
   "id": "723a7723",
   "metadata": {},
   "outputs": [
    {
     "name": "stdout",
     "output_type": "stream",
     "text": [
      "abce\n",
      "ebac\n",
      "True\n"
     ]
    }
   ],
   "source": [
    "def permutation(s,s2):\n",
    "    s = sorted(s)\n",
    "    s2 = sorted(s2)\n",
    "    return s==s2\n",
    "str = input()\n",
    "str2 = input()\n",
    "a = permutation(str,str2)\n",
    "print(a)"
   ]
  },
  {
   "cell_type": "markdown",
   "id": "0275d52f",
   "metadata": {},
   "source": [
    "Remove consecutive duplicates"
   ]
  },
  {
   "cell_type": "code",
   "execution_count": 12,
   "id": "c89467e6",
   "metadata": {},
   "outputs": [
    {
     "name": "stdout",
     "output_type": "stream",
     "text": [
      "aabbccdaaggttttt\n",
      "abcdagt\n"
     ]
    }
   ],
   "source": [
    "def unique(str):\n",
    "    ans = ''\n",
    "    stind = 0\n",
    "    while(stind<len(str)):\n",
    "        ans += str[stind]\n",
    "        nxtsi = stind + 1\n",
    "        while(nxtsi<len(str) and str[stind]==str[nxtsi]):\n",
    "            nxtsi+=1\n",
    "        stind = nxtsi\n",
    "    return ans\n",
    "str = input()\n",
    "str = unique(str)\n",
    "print(str)"
   ]
  },
  {
   "cell_type": "markdown",
   "id": "3ebf9764",
   "metadata": {},
   "source": [
    "Reverse each word in the sentence"
   ]
  },
  {
   "cell_type": "code",
   "execution_count": 22,
   "id": "eb88e395",
   "metadata": {},
   "outputs": [
    {
     "name": "stdout",
     "output_type": "stream",
     "text": [
      "Hello! I am AAdil.\n",
      "!olleH I ma .lidAA \n"
     ]
    }
   ],
   "source": [
    "def reve(str):\n",
    "    li = str.split(' ')\n",
    "    ans = ''\n",
    "    for word in li:\n",
    "        rev = word[::-1]\n",
    "        #print(rev)\n",
    "        ans += rev\n",
    "        ans += ' '\n",
    "    return ans\n",
    "str = input()\n",
    "str = reve(str)\n",
    "print(str)"
   ]
  },
  {
   "cell_type": "markdown",
   "id": "5b266d88",
   "metadata": {},
   "source": [
    "Remove Character"
   ]
  },
  {
   "cell_type": "code",
   "execution_count": 23,
   "id": "b1baf6c6",
   "metadata": {},
   "outputs": [
    {
     "name": "stdout",
     "output_type": "stream",
     "text": [
      "aabccbaa\n",
      "a\n",
      "bccb\n"
     ]
    }
   ],
   "source": [
    "def remove(str,char):\n",
    "    ans = ''\n",
    "    for ele in str:\n",
    "        if(ele!=char):\n",
    "            ans+=ele\n",
    "    return ans\n",
    "str = input()\n",
    "char = input()\n",
    "str = remove(str,char)\n",
    "print(str)"
   ]
  },
  {
   "cell_type": "markdown",
   "id": "396da7d3",
   "metadata": {},
   "source": [
    "Return the highest occuring character in a string"
   ]
  },
  {
   "cell_type": "code",
   "execution_count": 30,
   "id": "a292ddba",
   "metadata": {},
   "outputs": [
    {
     "name": "stdout",
     "output_type": "stream",
     "text": [
      "abdefgbabfba\n",
      "98\n",
      "b\n"
     ]
    }
   ],
   "source": [
    "def occuring(str):\n",
    "    count = [0] * 256\n",
    "    for ele in str:\n",
    "        num = ord(ele)\n",
    "        count[num]+=1\n",
    "    max = 0\n",
    "    for i in range(0,256,1):\n",
    "        if(count[i]>max):\n",
    "            max = count[i]\n",
    "            ans = i\n",
    "    #print(ans)\n",
    "    print(chr(ans))\n",
    "str = input()\n",
    "occuring(str)"
   ]
  },
  {
   "cell_type": "markdown",
   "id": "4445a653",
   "metadata": {},
   "source": [
    "Output the square of those numbers who are div by 2 and 3"
   ]
  },
  {
   "cell_type": "code",
   "execution_count": 2,
   "id": "7e9d725a",
   "metadata": {},
   "outputs": [
    {
     "name": "stdout",
     "output_type": "stream",
     "text": [
      "[36]\n"
     ]
    }
   ],
   "source": [
    "li = [2,3,4,5,6,7,8,9]\n",
    "li_new = [ele**2 for ele in li if (ele%2==0 and ele%3==0)]\n",
    "print(li_new)"
   ]
  },
  {
   "cell_type": "markdown",
   "id": "c5ddcfb4",
   "metadata": {},
   "source": [
    "Largest column sum"
   ]
  },
  {
   "cell_type": "code",
   "execution_count": 13,
   "id": "d29aa01a",
   "metadata": {},
   "outputs": [
    {
     "name": "stdout",
     "output_type": "stream",
     "text": [
      "2\n"
     ]
    }
   ],
   "source": [
    "def lar_col_sum(li):\n",
    "    n = len(li)\n",
    "    m = len(li[0])\n",
    "    maxsum = 0\n",
    "    index = -1\n",
    "    for i in range(m):\n",
    "        sum = 0\n",
    "        for j in range(n):\n",
    "            sum += li[j][i]\n",
    "        if(sum>maxsum):\n",
    "            maxsum = sum\n",
    "            index = i\n",
    "    return index\n",
    "li = [[1,2,3,4],[8,7,6,5],[9,10,11,7]]\n",
    "lar_col_ind = lar_col_sum(li)\n",
    "print(lar_col_ind)"
   ]
  },
  {
   "cell_type": "markdown",
   "id": "3349a4f8",
   "metadata": {},
   "source": [
    "Given a string str print all letters of freq k"
   ]
  },
  {
   "cell_type": "code",
   "execution_count": 11,
   "id": "c7adad8a",
   "metadata": {},
   "outputs": [
    {
     "name": "stdout",
     "output_type": "stream",
     "text": [
      "s\n",
      "l\n"
     ]
    }
   ],
   "source": [
    "str = 'djgjsughahiaugyuibdhsngjnfhbalajkgnflidbnlrhuaiudhfyeapfjpdkjvjisbr'\n",
    "k = 3\n",
    "a = {}\n",
    "for ele in str:\n",
    "    a[ele] = 0\n",
    "for ele in str:\n",
    "    a[ele] += 1\n",
    "for ele in a:\n",
    "    if a[ele] == k:\n",
    "        print(ele)"
   ]
  },
  {
   "cell_type": "markdown",
   "id": "da90cc93",
   "metadata": {},
   "source": [
    "Find the sum of all unique numbers"
   ]
  },
  {
   "cell_type": "code",
   "execution_count": 3,
   "id": "bf8bb067",
   "metadata": {},
   "outputs": [
    {
     "name": "stdout",
     "output_type": "stream",
     "text": [
      "25\n"
     ]
    }
   ],
   "source": [
    "li = [1,2,4,6,5,6,7,4,1,2,4,4]\n",
    "st = set()\n",
    "for ele in li:\n",
    "    st.add(ele)\n",
    "ans = 0\n",
    "for ele in st:\n",
    "    ans += ele\n",
    "print(ans)"
   ]
  },
  {
   "cell_type": "markdown",
   "id": "ebd5b4ac",
   "metadata": {},
   "source": [
    "# THE END"
   ]
  }
 ],
 "metadata": {
  "kernelspec": {
   "display_name": "Python 3",
   "language": "python",
   "name": "python3"
  },
  "language_info": {
   "codemirror_mode": {
    "name": "ipython",
    "version": 3
   },
   "file_extension": ".py",
   "mimetype": "text/x-python",
   "name": "python",
   "nbconvert_exporter": "python",
   "pygments_lexer": "ipython3",
   "version": "3.8.8"
  }
 },
 "nbformat": 4,
 "nbformat_minor": 5
}
