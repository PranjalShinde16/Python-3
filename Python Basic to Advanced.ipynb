{
 "cells": [
  {
   "cell_type": "markdown",
   "id": "65e86b63",
   "metadata": {},
   "source": [
    "### Print HelloWorld"
   ]
  },
  {
   "cell_type": "code",
   "execution_count": 1,
   "id": "e082a35a",
   "metadata": {},
   "outputs": [
    {
     "name": "stdout",
     "output_type": "stream",
     "text": [
      "Helloworld\n"
     ]
    }
   ],
   "source": [
    "print(\"Helloworld\")"
   ]
  },
  {
   "cell_type": "markdown",
   "id": "ad24ad3b",
   "metadata": {},
   "source": [
    "### Add two numbers"
   ]
  },
  {
   "cell_type": "code",
   "execution_count": 2,
   "id": "4e69153c",
   "metadata": {},
   "outputs": [
    {
     "name": "stdout",
     "output_type": "stream",
     "text": [
      "30\n"
     ]
    }
   ],
   "source": [
    "a = 10\n",
    "b = 20\n",
    "print(a+b)"
   ]
  },
  {
   "cell_type": "code",
   "execution_count": 5,
   "id": "91e12083",
   "metadata": {},
   "outputs": [
    {
     "data": {
      "text/plain": [
       "25"
      ]
     },
     "execution_count": 5,
     "metadata": {},
     "output_type": "execute_result"
    }
   ],
   "source": [
    "a = 20\n",
    "b = 5\n",
    "a+b "
   ]
  },
  {
   "cell_type": "markdown",
   "id": "0afef634",
   "metadata": {},
   "source": [
    "A variable name can start with _ , a , A but cannot start with a digit\n",
    "a # can comment out a code"
   ]
  },
  {
   "cell_type": "markdown",
   "id": "8c6a9a52",
   "metadata": {},
   "source": [
    "### Assigning different type of data to a variable"
   ]
  },
  {
   "cell_type": "code",
   "execution_count": 13,
   "id": "7246b5ed",
   "metadata": {},
   "outputs": [
    {
     "name": "stdout",
     "output_type": "stream",
     "text": [
      "changed the data type\n"
     ]
    }
   ],
   "source": [
    "a = 10\n",
    "a = 20\n",
    "a = \"changed the data type\"\n",
    "print(a)"
   ]
  },
  {
   "cell_type": "markdown",
   "id": "3d1aa7ca",
   "metadata": {},
   "source": [
    "In C++ compiler allot space for a particular datatype. For ex. 4 byte for int\n",
    "but in python compiler allot new location everytime a variable is declared and variable stores new address of location"
   ]
  },
  {
   "cell_type": "code",
   "execution_count": 17,
   "id": "ba968007",
   "metadata": {},
   "outputs": [
    {
     "name": "stdout",
     "output_type": "stream",
     "text": [
      "<class 'float'>\n",
      "<class 'float'>\n"
     ]
    }
   ],
   "source": [
    "print(type(a))\n",
    "# a was previously executed as a string\n",
    "a = 10.3\n",
    "print(type(a))"
   ]
  },
  {
   "cell_type": "markdown",
   "id": "ae323850",
   "metadata": {},
   "source": [
    "### Python Numbers"
   ]
  },
  {
   "cell_type": "code",
   "execution_count": 19,
   "id": "630960b6",
   "metadata": {},
   "outputs": [
    {
     "name": "stdout",
     "output_type": "stream",
     "text": [
      "<class 'complex'>\n",
      "<class 'int'>\n",
      "<class 'float'>\n"
     ]
    }
   ],
   "source": [
    "a1 = 10 + 2j\n",
    "print(type(a1))\n",
    "a2 = 23\n",
    "a3 = 3.4\n",
    "print(type(a2))\n",
    "print(type(a3))"
   ]
  },
  {
   "cell_type": "markdown",
   "id": "a5ca1a9a",
   "metadata": {},
   "source": [
    "complex numbers are also allowed in python"
   ]
  },
  {
   "cell_type": "code",
   "execution_count": 22,
   "id": "14db85d7",
   "metadata": {},
   "outputs": [
    {
     "name": "stdout",
     "output_type": "stream",
     "text": [
      "140721900496976\n",
      "140721900497008\n",
      "11\n"
     ]
    }
   ],
   "source": [
    "a = 10\n",
    "print(id(a))\n",
    "a = a + 1\n",
    "print(id(a)) #here the storage is changed while adding\n",
    "print(a) "
   ]
  },
  {
   "cell_type": "code",
   "execution_count": 23,
   "id": "e22aed10",
   "metadata": {},
   "outputs": [
    {
     "name": "stdout",
     "output_type": "stream",
     "text": [
      "140721900496976\n",
      "140721900496976\n"
     ]
    }
   ],
   "source": [
    "#id are same here\n",
    "a = 10\n",
    "b = 10\n",
    "print(id(a))\n",
    "print(id(b))"
   ]
  },
  {
   "cell_type": "code",
   "execution_count": 24,
   "id": "0b45b7b5",
   "metadata": {},
   "outputs": [
    {
     "name": "stdout",
     "output_type": "stream",
     "text": [
      "140721900496976\n"
     ]
    }
   ],
   "source": [
    "a = 10\n",
    "b = id(a)\n",
    "print(b)"
   ]
  },
  {
   "cell_type": "markdown",
   "id": "e357ed7a",
   "metadata": {},
   "source": [
    " We can store a very large number in python because of its dynamic allocation property"
   ]
  },
  {
   "cell_type": "markdown",
   "id": "d3589e53",
   "metadata": {},
   "source": [
    "### Arithmatic Operators"
   ]
  },
  {
   "cell_type": "code",
   "execution_count": 27,
   "id": "b7970795",
   "metadata": {},
   "outputs": [
    {
     "data": {
      "text/plain": [
       "False"
      ]
     },
     "execution_count": 27,
     "metadata": {},
     "output_type": "execute_result"
    }
   ],
   "source": [
    "10 == 100"
   ]
  },
  {
   "cell_type": "code",
   "execution_count": 32,
   "id": "7c4706b1",
   "metadata": {},
   "outputs": [
    {
     "name": "stdout",
     "output_type": "stream",
     "text": [
      "6.666666666666667\n",
      "6\n",
      "8000\n",
      "2\n"
     ]
    }
   ],
   "source": [
    "a = 20\n",
    "b = 3\n",
    "print(a/b) #floating division\n",
    "print(a//b) #integer division\n",
    "print(a**b) #to the power (exponentiation)\n",
    "print(a%b) #modulus"
   ]
  },
  {
   "cell_type": "markdown",
   "id": "6bf2b51c",
   "metadata": {},
   "source": [
    "Python follows the BODMAS rule"
   ]
  },
  {
   "cell_type": "code",
   "execution_count": 33,
   "id": "7dcc0531",
   "metadata": {},
   "outputs": [
    {
     "data": {
      "text/plain": [
       "14"
      ]
     },
     "execution_count": 33,
     "metadata": {},
     "output_type": "execute_result"
    }
   ],
   "source": [
    "2 + 3 * 4"
   ]
  },
  {
   "cell_type": "code",
   "execution_count": 35,
   "id": "cf3227ff",
   "metadata": {},
   "outputs": [
    {
     "data": {
      "text/plain": [
       "1"
      ]
     },
     "execution_count": 35,
     "metadata": {},
     "output_type": "execute_result"
    }
   ],
   "source": [
    "2 * 3 // 4 #when operations are of same weightage then operations take place sequentially"
   ]
  },
  {
   "cell_type": "markdown",
   "id": "2c383899",
   "metadata": {},
   "source": [
    "## Function on string"
   ]
  },
  {
   "cell_type": "code",
   "execution_count": 36,
   "id": "2a870d6e",
   "metadata": {},
   "outputs": [
    {
     "name": "stdout",
     "output_type": "stream",
     "text": [
      "abcd\n"
     ]
    }
   ],
   "source": [
    "str1 = \"ab\"\n",
    "str2 = \"cd\"\n",
    "print(str1 + str2)"
   ]
  },
  {
   "cell_type": "markdown",
   "id": "0cf80b06",
   "metadata": {},
   "source": [
    "## Input"
   ]
  },
  {
   "cell_type": "code",
   "execution_count": 37,
   "id": "bb514b61",
   "metadata": {},
   "outputs": [
    {
     "name": "stdout",
     "output_type": "stream",
     "text": [
      "23\n"
     ]
    },
    {
     "data": {
      "text/plain": [
       "'23'"
      ]
     },
     "execution_count": 37,
     "metadata": {},
     "output_type": "execute_result"
    }
   ],
   "source": [
    "input()"
   ]
  },
  {
   "cell_type": "code",
   "execution_count": 4,
   "id": "c5ab43f5",
   "metadata": {},
   "outputs": [
    {
     "name": "stdout",
     "output_type": "stream",
     "text": [
      "23\n",
      "<class 'str'>\n",
      "23\n",
      "<class 'int'>\n",
      "23\n"
     ]
    }
   ],
   "source": [
    "a = input()\n",
    "print(type(a)) #type will be string\n",
    "print(a)\n",
    "a = int(a)\n",
    "print(type(a)) #changed type to int\n",
    "print(a)"
   ]
  },
  {
   "cell_type": "code",
   "execution_count": 5,
   "id": "2be72169",
   "metadata": {},
   "outputs": [
    {
     "name": "stdout",
     "output_type": "stream",
     "text": [
      "10\n",
      "20\n",
      "30\n"
     ]
    }
   ],
   "source": [
    "a = input()\n",
    "b = input()\n",
    "print(int(a)+int(b))"
   ]
  },
  {
   "cell_type": "code",
   "execution_count": 6,
   "id": "e374afdc",
   "metadata": {},
   "outputs": [
    {
     "name": "stdout",
     "output_type": "stream",
     "text": [
      "10\n",
      "20\n",
      "30\n"
     ]
    }
   ],
   "source": [
    "a = int(input())\n",
    "b = int(input())\n",
    "print(a+b)"
   ]
  },
  {
   "cell_type": "markdown",
   "id": "acfd2e9f",
   "metadata": {},
   "source": [
    "## Booleans"
   ]
  },
  {
   "cell_type": "code",
   "execution_count": 13,
   "id": "29e7e514",
   "metadata": {},
   "outputs": [
    {
     "name": "stdout",
     "output_type": "stream",
     "text": [
      "<class 'bool'>\n"
     ]
    }
   ],
   "source": [
    "a = True\n",
    "b = False\n",
    "print(type(a))"
   ]
  },
  {
   "cell_type": "markdown",
   "id": "568b2156",
   "metadata": {},
   "source": [
    "## Relational Operators"
   ]
  },
  {
   "cell_type": "code",
   "execution_count": 14,
   "id": "4d233280",
   "metadata": {},
   "outputs": [
    {
     "name": "stdout",
     "output_type": "stream",
     "text": [
      "10\n",
      "10\n",
      "False\n",
      "False\n",
      "True\n",
      "True\n",
      "True\n",
      "False\n"
     ]
    }
   ],
   "source": [
    "a = input()\n",
    "b = input()\n",
    "print(a>b)\n",
    "print(b>a)\n",
    "print(a==b)\n",
    "print(a>=b)\n",
    "print(b>=a)\n",
    "print(a!=b)"
   ]
  },
  {
   "cell_type": "markdown",
   "id": "2c49d7ba",
   "metadata": {},
   "source": [
    "## Logical Operators"
   ]
  },
  {
   "cell_type": "code",
   "execution_count": 18,
   "id": "fef08d02",
   "metadata": {},
   "outputs": [
    {
     "name": "stdout",
     "output_type": "stream",
     "text": [
      "False\n",
      "True\n",
      "False\n"
     ]
    }
   ],
   "source": [
    "a = 10\n",
    "b = 20\n",
    "c1 = a > 10\n",
    "c2 = b > 10\n",
    "print(c1 and c2)\n",
    "print(c1 or c2)\n",
    "print(not c2)"
   ]
  },
  {
   "cell_type": "markdown",
   "id": "b6df1b05",
   "metadata": {},
   "source": [
    "## If Else Statements"
   ]
  },
  {
   "cell_type": "code",
   "execution_count": 27,
   "id": "f5bdc350",
   "metadata": {},
   "outputs": [
    {
     "name": "stdout",
     "output_type": "stream",
     "text": [
      "A is False\n"
     ]
    }
   ],
   "source": [
    "a = False\n",
    "if a:\n",
    "    print(\"A is True\") #Indentation is very important in python\n",
    "else:\n",
    "    print(\"A is False\")"
   ]
  },
  {
   "cell_type": "markdown",
   "id": "9dfa89f6",
   "metadata": {},
   "source": [
    "Using if condition without any else is also OK"
   ]
  },
  {
   "cell_type": "markdown",
   "id": "30cd8e0c",
   "metadata": {},
   "source": [
    "## Else if Statements and Nested If Else"
   ]
  },
  {
   "cell_type": "code",
   "execution_count": 30,
   "id": "a9dad1eb",
   "metadata": {},
   "outputs": [
    {
     "name": "stdout",
     "output_type": "stream",
     "text": [
      "2\n",
      "Less than 5\n"
     ]
    }
   ],
   "source": [
    "a = int(input())\n",
    "if a>10:\n",
    "    if a>20:\n",
    "        print(\"It is greater than 20\")\n",
    "    else:\n",
    "        print(\"Lies between 10 and 20\")\n",
    "elif a>5:\n",
    "    print(\"Lies between 5 and 10\")\n",
    "else:\n",
    "    print(\"Less than 5\")"
   ]
  },
  {
   "cell_type": "markdown",
   "id": "0c1e7c31",
   "metadata": {},
   "source": [
    "## While Loops"
   ]
  },
  {
   "cell_type": "code",
   "execution_count": 2,
   "id": "27d66adf",
   "metadata": {},
   "outputs": [
    {
     "name": "stdout",
     "output_type": "stream",
     "text": [
      "5\n",
      "4\n",
      "3\n",
      "2\n",
      "1\n"
     ]
    }
   ],
   "source": [
    "n = 5\n",
    "while (n>0):\n",
    "    print(n)\n",
    "    n = n - 1"
   ]
  },
  {
   "cell_type": "markdown",
   "id": "73756fba",
   "metadata": {},
   "source": [
    "## Print kth alphabet"
   ]
  },
  {
   "cell_type": "code",
   "execution_count": 1,
   "id": "0a38c313",
   "metadata": {},
   "outputs": [
    {
     "name": "stdout",
     "output_type": "stream",
     "text": [
      "2\n",
      "B\n"
     ]
    }
   ],
   "source": [
    "k = int(input())\n",
    "# 'A' + k - 1\n",
    "a = ord('A')\n",
    "a = a + k - 1\n",
    "print(chr(a))"
   ]
  },
  {
   "cell_type": "markdown",
   "id": "9dbf1d36",
   "metadata": {},
   "source": [
    "## For loop"
   ]
  },
  {
   "cell_type": "code",
   "execution_count": 2,
   "id": "0b004f55",
   "metadata": {},
   "outputs": [
    {
     "name": "stdout",
     "output_type": "stream",
     "text": [
      "abc\n",
      "a\n",
      "b\n",
      "c\n"
     ]
    }
   ],
   "source": [
    "x = input()\n",
    "for i in x:\n",
    "    print(i) #acting as for(auto& x : vect)"
   ]
  },
  {
   "cell_type": "code",
   "execution_count": 5,
   "id": "3d0e4e7e",
   "metadata": {},
   "outputs": [
    {
     "name": "stdout",
     "output_type": "stream",
     "text": [
      "3\n",
      "0  1  2  3  "
     ]
    }
   ],
   "source": [
    "n = int(input())\n",
    "for i in range(0,n+1,1):\n",
    "    print(i,\" \",end='') #normal for(ll i=0;i<n+1;i++)"
   ]
  },
  {
   "cell_type": "markdown",
   "id": "9584317b",
   "metadata": {},
   "source": [
    "for i in range(start,end,step), by default start is 0,step is 1"
   ]
  },
  {
   "cell_type": "code",
   "execution_count": 6,
   "id": "bfaf65a8",
   "metadata": {},
   "outputs": [
    {
     "name": "stdout",
     "output_type": "stream",
     "text": [
      "3\n",
      "3  2  1  "
     ]
    }
   ],
   "source": [
    "n = int(input())\n",
    "for i in range(n,0,-1):\n",
    "    print(i,\" \",end='')"
   ]
  },
  {
   "cell_type": "markdown",
   "id": "e25e6e81",
   "metadata": {},
   "source": [
    "## Break"
   ]
  },
  {
   "cell_type": "code",
   "execution_count": 10,
   "id": "82dce14b",
   "metadata": {},
   "outputs": [
    {
     "name": "stdout",
     "output_type": "stream",
     "text": [
      "6\n",
      "0  1  2  3  "
     ]
    }
   ],
   "source": [
    "n = int(input())\n",
    "for i in range(0,n+1,1):\n",
    "    print(i,' ',end='')\n",
    "    if(i==n/2):\n",
    "        break"
   ]
  },
  {
   "cell_type": "markdown",
   "id": "9d6afc2b",
   "metadata": {},
   "source": [
    "## Else"
   ]
  },
  {
   "cell_type": "code",
   "execution_count": 12,
   "id": "71179e3d",
   "metadata": {},
   "outputs": [
    {
     "name": "stdout",
     "output_type": "stream",
     "text": [
      "1  2  3  4  5  6  7  8  9  10  \n",
      "This will be printed at the end (once)\n"
     ]
    }
   ],
   "source": [
    "i = 1\n",
    "while i<=10:\n",
    "    print(i,\" \",end='')\n",
    "    i = i + 1\n",
    "else:\n",
    "    print()\n",
    "    print(\"This will be printed at the end (once)\")"
   ]
  },
  {
   "cell_type": "code",
   "execution_count": 1,
   "id": "230d0667",
   "metadata": {},
   "outputs": [
    {
     "name": "stdout",
     "output_type": "stream",
     "text": [
      "1\n",
      "2\n",
      "3\n",
      "4\n"
     ]
    }
   ],
   "source": [
    "#Code inside the else will not be executed if the while loop is terminated by break#\n",
    "i = 1\n",
    "while(i<10):\n",
    "    print(i)\n",
    "    i = i + 1\n",
    "    if(i==5):\n",
    "        break;\n",
    "else:\n",
    "    print(\"Print this once\")"
   ]
  },
  {
   "cell_type": "markdown",
   "id": "8c384acc",
   "metadata": {},
   "source": [
    "## Continue"
   ]
  },
  {
   "cell_type": "code",
   "execution_count": 4,
   "id": "54b16d5a",
   "metadata": {},
   "outputs": [
    {
     "name": "stdout",
     "output_type": "stream",
     "text": [
      "00\n",
      "11\n",
      "233\n",
      "44\n",
      "55\n",
      "66\n",
      "77\n",
      "88\n",
      "99\n"
     ]
    }
   ],
   "source": [
    "#Used of skip an iteration\n",
    "for i in range(0,10,1):\n",
    "    print(i,end='')\n",
    "    if(i==2):\n",
    "        continue\n",
    "    print(i)"
   ]
  },
  {
   "cell_type": "markdown",
   "id": "7e54117a",
   "metadata": {},
   "source": [
    "## Pass"
   ]
  },
  {
   "cell_type": "code",
   "execution_count": 1,
   "id": "3e20cbd6",
   "metadata": {},
   "outputs": [
    {
     "name": "stdout",
     "output_type": "stream",
     "text": [
      "Hey\n"
     ]
    }
   ],
   "source": [
    "n = 2\n",
    "if (n<3):\n",
    "    pass\n",
    "print(\"Hey\")"
   ]
  },
  {
   "cell_type": "markdown",
   "id": "b3b9ff5b",
   "metadata": {},
   "source": [
    "## Functions"
   ]
  },
  {
   "cell_type": "code",
   "execution_count": 6,
   "id": "ebd73326",
   "metadata": {},
   "outputs": [
    {
     "name": "stdout",
     "output_type": "stream",
     "text": [
      "5\n",
      "2\n",
      "10\n"
     ]
    }
   ],
   "source": [
    "#finding nCr using function\n",
    "def fact(n):\n",
    "    ans = 1\n",
    "    for i in range(1,n+1,1):\n",
    "        ans = ans * i\n",
    "    return ans\n",
    "n = int(input())\n",
    "r = int(input())\n",
    "n_fact = fact(n)\n",
    "r_fact = fact(r)\n",
    "n_r_fact = fact(n-r)\n",
    "ans = n_fact//(r_fact*n_r_fact)\n",
    "print(ans)"
   ]
  },
  {
   "cell_type": "code",
   "execution_count": 4,
   "id": "67bf9266",
   "metadata": {},
   "outputs": [
    {
     "data": {
      "text/plain": [
       "3628800"
      ]
     },
     "execution_count": 4,
     "metadata": {},
     "output_type": "execute_result"
    }
   ],
   "source": [
    "fact(10) #It is still working since we have defined fact() in last code"
   ]
  },
  {
   "cell_type": "code",
   "execution_count": 10,
   "id": "ad328142",
   "metadata": {},
   "outputs": [
    {
     "name": "stdout",
     "output_type": "stream",
     "text": [
      "10\n",
      "20\n",
      "20\n",
      "10\n"
     ]
    }
   ],
   "source": [
    "def f2():\n",
    "    n = int(input())\n",
    "    print(n)\n",
    "def f1():\n",
    "    n = int(input())\n",
    "    f2()\n",
    "    print(n)\n",
    "f1()"
   ]
  },
  {
   "cell_type": "markdown",
   "id": "3933d5d8",
   "metadata": {},
   "source": [
    "## Local and Global variables"
   ]
  },
  {
   "cell_type": "code",
   "execution_count": 12,
   "id": "ad062230",
   "metadata": {},
   "outputs": [],
   "source": [
    "#you can access any global variable defined before the function call\n",
    "a = 10 #Global Variable\n",
    "def f1():\n",
    "    b = 12 #Local Variable"
   ]
  },
  {
   "cell_type": "code",
   "execution_count": 13,
   "id": "f4b350a1",
   "metadata": {},
   "outputs": [
    {
     "name": "stdout",
     "output_type": "stream",
     "text": [
      "13\n",
      "12\n",
      "13\n"
     ]
    }
   ],
   "source": [
    "a = 13\n",
    "def f():\n",
    "    a = 12  #Python assumes that you want to create a local variable\n",
    "    print(a) #You can try printing the id for confirmation\n",
    "print(a)\n",
    "f()\n",
    "print(a)"
   ]
  },
  {
   "cell_type": "code",
   "execution_count": 14,
   "id": "07dea473",
   "metadata": {},
   "outputs": [
    {
     "name": "stdout",
     "output_type": "stream",
     "text": [
      "13\n",
      "12\n",
      "12\n"
     ]
    }
   ],
   "source": [
    "a = 13\n",
    "def f():\n",
    "    global a\n",
    "    a = 12  #Now the change is made in global variable\n",
    "    print(a)\n",
    "print(a)\n",
    "f()\n",
    "print(a)"
   ]
  },
  {
   "cell_type": "markdown",
   "id": "c55d421b",
   "metadata": {},
   "source": [
    "## Default Argument"
   ]
  },
  {
   "cell_type": "code",
   "execution_count": 15,
   "id": "ac628062",
   "metadata": {},
   "outputs": [
    {
     "name": "stdout",
     "output_type": "stream",
     "text": [
      "6\n",
      "3\n"
     ]
    }
   ],
   "source": [
    "def sum(a,b,c=0):  #Here c is defined with default value\n",
    "    return a + b + c\n",
    "print(sum(1,2,3))\n",
    "print(sum(1,2))"
   ]
  },
  {
   "cell_type": "markdown",
   "id": "d335bcb6",
   "metadata": {},
   "source": [
    "By rule the non-default arguements should be before arguments with default value\n",
    "For ex :\n",
    "f(a = 0,b,c) is not correct"
   ]
  },
  {
   "cell_type": "code",
   "execution_count": 17,
   "id": "7ee08493",
   "metadata": {},
   "outputs": [
    {
     "name": "stdout",
     "output_type": "stream",
     "text": [
      "10\n",
      "5\n",
      "14\n"
     ]
    }
   ],
   "source": [
    "def f(a,b,c=2,d=0):\n",
    "    return a + b + c + d\n",
    "print(f(1,2,3,4))\n",
    "print(f(1,2))\n",
    "print(f(2,3,d=7))"
   ]
  },
  {
   "cell_type": "markdown",
   "id": "60256be1",
   "metadata": {},
   "source": [
    "## Lists"
   ]
  },
  {
   "cell_type": "code",
   "execution_count": 48,
   "id": "ee4a0139",
   "metadata": {},
   "outputs": [
    {
     "name": "stdout",
     "output_type": "stream",
     "text": [
      "<class 'list'>\n",
      "1\n",
      "5\n"
     ]
    },
    {
     "data": {
      "text/plain": [
       "[5, 2, 3]"
      ]
     },
     "execution_count": 48,
     "metadata": {},
     "output_type": "execute_result"
    }
   ],
   "source": [
    "#Python Lists need not homogeneous data, heterogeneous data can be stored\n",
    "#1,2.4,\"John\",4\n",
    "list = []\n",
    "lis = [1,2,3]\n",
    "print(type(lis))\n",
    "print(lis[0])  #Accesing the ith element in the list\n",
    "lis[0] = 5  #Changing the ith element of the list\n",
    "print(lis[0])  \n",
    "lis"
   ]
  },
  {
   "cell_type": "code",
   "execution_count": 42,
   "id": "d13cc10c",
   "metadata": {},
   "outputs": [
    {
     "name": "stdout",
     "output_type": "stream",
     "text": [
      "[5, 2, 3, 5, 9, 10]\n"
     ]
    }
   ],
   "source": [
    "print(lis[:]) #It will print the whole list"
   ]
  },
  {
   "cell_type": "code",
   "execution_count": 43,
   "id": "bf24cd57",
   "metadata": {},
   "outputs": [
    {
     "name": "stdout",
     "output_type": "stream",
     "text": [
      "[2]\n"
     ]
    }
   ],
   "source": [
    "print(lis[1:2])  #It will print the index 1 to 1"
   ]
  },
  {
   "cell_type": "code",
   "execution_count": 44,
   "id": "3ef247f5",
   "metadata": {},
   "outputs": [
    {
     "name": "stdout",
     "output_type": "stream",
     "text": [
      "[5, 2, 3, 5, 9, 10]\n"
     ]
    }
   ],
   "source": [
    "print(lis[0:10])  #Will print from index 0 to 10 (as the size was 3 it will print till last element)"
   ]
  },
  {
   "cell_type": "code",
   "execution_count": 46,
   "id": "17bf25c0",
   "metadata": {},
   "outputs": [
    {
     "data": {
      "text/plain": [
       "[5, 20, 20, 2, 3, 5, 9, 10]"
      ]
     },
     "execution_count": 46,
     "metadata": {},
     "output_type": "execute_result"
    }
   ],
   "source": [
    "lis.insert(1,20)  #Will insert 20 at index 1\n",
    "lis"
   ]
  },
  {
   "cell_type": "code",
   "execution_count": 47,
   "id": "03349c46",
   "metadata": {},
   "outputs": [
    {
     "data": {
      "text/plain": [
       "[5, 20, 20, 2, 3, 5, 9, 10, 5]"
      ]
     },
     "execution_count": 47,
     "metadata": {},
     "output_type": "execute_result"
    }
   ],
   "source": [
    "lis.insert(20,5) #As the size limit is exceeding it will automatically add at the end\n",
    "lis"
   ]
  },
  {
   "cell_type": "code",
   "execution_count": 37,
   "id": "54a9bd3a",
   "metadata": {},
   "outputs": [
    {
     "data": {
      "text/plain": [
       "[5, 20, 2, 3, 5, [9, 10, 11]]"
      ]
     },
     "execution_count": 37,
     "metadata": {},
     "output_type": "execute_result"
    }
   ],
   "source": [
    "lis.append([9,10,11]) #Appends\n",
    "lis"
   ]
  },
  {
   "cell_type": "code",
   "execution_count": 38,
   "id": "0127f22c",
   "metadata": {},
   "outputs": [
    {
     "data": {
      "text/plain": [
       "[5, 20, 2, 3, 5, [9, 10, 11], 9, 10, 11]"
      ]
     },
     "execution_count": 38,
     "metadata": {},
     "output_type": "execute_result"
    }
   ],
   "source": [
    "lis.extend([9,10,11])  #Append and extend are different\n",
    "lis"
   ]
  },
  {
   "cell_type": "code",
   "execution_count": 39,
   "id": "fbfa3c1e",
   "metadata": {},
   "outputs": [
    {
     "data": {
      "text/plain": [
       "[5, 2, 3, 5, [9, 10, 11], 9, 10, 11]"
      ]
     },
     "execution_count": 39,
     "metadata": {},
     "output_type": "execute_result"
    }
   ],
   "source": [
    "lis.remove(20)  #Removes the number in argument (If multiple present removes the first one)\n",
    "lis"
   ]
  },
  {
   "cell_type": "code",
   "execution_count": 40,
   "id": "da9a927c",
   "metadata": {},
   "outputs": [
    {
     "data": {
      "text/plain": [
       "[5, 2, 3, 5, [9, 10, 11], 9, 10]"
      ]
     },
     "execution_count": 40,
     "metadata": {},
     "output_type": "execute_result"
    }
   ],
   "source": [
    "lis.pop()  #Pops the last element (Returns it)\n",
    "lis"
   ]
  },
  {
   "cell_type": "code",
   "execution_count": 41,
   "id": "430a021e",
   "metadata": {},
   "outputs": [
    {
     "data": {
      "text/plain": [
       "[5, 2, 3, 5, 9, 10]"
      ]
     },
     "execution_count": 41,
     "metadata": {},
     "output_type": "execute_result"
    }
   ],
   "source": [
    "lis.pop(4)  #Will pop from index 4\n",
    "lis"
   ]
  },
  {
   "cell_type": "code",
   "execution_count": 51,
   "id": "432691b7",
   "metadata": {},
   "outputs": [
    {
     "name": "stdout",
     "output_type": "stream",
     "text": [
      "<class 'int'>\n",
      "<class 'list'>\n"
     ]
    }
   ],
   "source": [
    "print(type(lis[0]))\n",
    "print(type(lis))"
   ]
  },
  {
   "cell_type": "markdown",
   "id": "785e5ab6",
   "metadata": {},
   "source": [
    "Lists actually stores the references of the data. Thus we can store multiple type of data there. Another important point is that lists store those references continuously."
   ]
  },
  {
   "cell_type": "markdown",
   "id": "afbebd63",
   "metadata": {},
   "source": [
    "How continuity is maintained?\n",
    "The list copies itself with double size at another available space in appending condition.\n"
   ]
  },
  {
   "cell_type": "markdown",
   "id": "76e6921d",
   "metadata": {},
   "source": [
    "## Looping on the list"
   ]
  },
  {
   "cell_type": "code",
   "execution_count": 56,
   "id": "9beb41a0",
   "metadata": {},
   "outputs": [
    {
     "name": "stdout",
     "output_type": "stream",
     "text": [
      "1\n",
      "2\n",
      "Rohan\n",
      "9\n",
      "10\n",
      "Length of this list is 5\n"
     ]
    }
   ],
   "source": [
    "li = [1,2,\"Rohan\",9,10]\n",
    "for i in range(0,len(li),1):\n",
    "    print(li[i])\n",
    "print(\"Length of this list is\",len(li))"
   ]
  },
  {
   "cell_type": "code",
   "execution_count": 57,
   "id": "9ad0ce02",
   "metadata": {},
   "outputs": [
    {
     "name": "stdout",
     "output_type": "stream",
     "text": [
      "1\n",
      "2\n",
      "Rohan\n",
      "9\n",
      "10\n"
     ]
    }
   ],
   "source": [
    "for i in li: #List can be accessed like this also\n",
    "    print(i)"
   ]
  },
  {
   "cell_type": "code",
   "execution_count": 58,
   "id": "1b0af6ea",
   "metadata": {},
   "outputs": [
    {
     "name": "stdout",
     "output_type": "stream",
     "text": [
      "Rohan\n",
      "9\n",
      "10\n"
     ]
    }
   ],
   "source": [
    "for i in li[2:]: #started from index 2\n",
    "    print(i)"
   ]
  },
  {
   "cell_type": "markdown",
   "id": "edb77ab1",
   "metadata": {},
   "source": [
    "## Negative indexing and sequencing"
   ]
  },
  {
   "cell_type": "code",
   "execution_count": 61,
   "id": "ce479b63",
   "metadata": {},
   "outputs": [
    {
     "name": "stdout",
     "output_type": "stream",
     "text": [
      "3\n",
      "5\n"
     ]
    }
   ],
   "source": [
    "li = [1,2,3,4,5]\n",
    "m = -3\n",
    "print(li[m])\n",
    "print(li[-1]) #Negative indexing means starting from the last of list"
   ]
  },
  {
   "cell_type": "code",
   "execution_count": 62,
   "id": "92d6ae19",
   "metadata": {},
   "outputs": [
    {
     "name": "stdout",
     "output_type": "stream",
     "text": [
      "[2, 4]\n"
     ]
    }
   ],
   "source": [
    "print(li[1:4:2]) #list[start:end:step] \n",
    "#by default"
   ]
  },
  {
   "cell_type": "code",
   "execution_count": 69,
   "id": "a3d19aaf",
   "metadata": {},
   "outputs": [
    {
     "name": "stdout",
     "output_type": "stream",
     "text": [
      "[2, 4]\n",
      "[2, 4]\n",
      "[1, 2, 3]\n",
      "[5]\n",
      "[5, 4, 3, 2, 1]\n"
     ]
    }
   ],
   "source": [
    "print(li[1:20:2]) #Will go till length of list if end > length\n",
    "print(li[1::2]) #dafault value of end\n",
    "print(li[:3])\n",
    "print(li[-1:])\n",
    "print(li[-1::-1])"
   ]
  },
  {
   "cell_type": "markdown",
   "id": "a7f3b3c2",
   "metadata": {},
   "source": [
    "Dafault values are : start = 0, end = length, step = 1"
   ]
  },
  {
   "cell_type": "markdown",
   "id": "e638d73f",
   "metadata": {},
   "source": [
    "## Taking inputs in a List"
   ]
  },
  {
   "cell_type": "code",
   "execution_count": 72,
   "id": "bc51b72a",
   "metadata": {},
   "outputs": [
    {
     "name": "stdout",
     "output_type": "stream",
     "text": [
      "5\n",
      "1\n",
      "2\n",
      "3\n",
      "4\n",
      "5\n",
      "[1, 2, 3, 4, 5]\n"
     ]
    }
   ],
   "source": [
    "#Line seperated input\n",
    "n = int(input())\n",
    "li = []\n",
    "for i in range(0,5,1):\n",
    "    li.append(int(input()))\n",
    "print(li)"
   ]
  },
  {
   "cell_type": "code",
   "execution_count": 79,
   "id": "f54e496b",
   "metadata": {},
   "outputs": [
    {
     "name": "stdout",
     "output_type": "stream",
     "text": [
      "5\n",
      "1 2 3 4 5\n",
      "[1, 2, 3, 4, 5]\n"
     ]
    }
   ],
   "source": [
    "#Space seperated input\n",
    "n = int(input())\n",
    "li = []\n",
    "str = input()\n",
    "str = str.split(' ')\n",
    "for ele in str:\n",
    "    li.append(int(ele))\n",
    "print(li)"
   ]
  },
  {
   "cell_type": "code",
   "execution_count": 80,
   "id": "9f65738b",
   "metadata": {},
   "outputs": [
    {
     "name": "stdout",
     "output_type": "stream",
     "text": [
      "1 2 3 4 5\n",
      "['1', '2', '3', '4', '5']\n"
     ]
    }
   ],
   "source": [
    "str = input()\n",
    "str2 = str.split(' ') #Splits the list on basis of space\n",
    "print(str2)"
   ]
  },
  {
   "cell_type": "code",
   "execution_count": 82,
   "id": "effe1b7a",
   "metadata": {},
   "outputs": [
    {
     "name": "stdout",
     "output_type": "stream",
     "text": [
      "5\n",
      "1 2 3 4 5\n",
      "[1, 2, 3, 4, 5]\n"
     ]
    }
   ],
   "source": [
    "#Space seperated input part 2\n",
    "n = int(input())\n",
    "li = [int(x) for x in input().split()]\n",
    "print(li)"
   ]
  },
  {
   "cell_type": "markdown",
   "id": "b16f3275",
   "metadata": {},
   "source": [
    "## Concept of Mutable and Immutable"
   ]
  },
  {
   "cell_type": "markdown",
   "id": "a578dbe8",
   "metadata": {},
   "source": [
    "References are changes when we change variable and not the value. This concept is concept of immutable\n",
    "If we change in one list that will reflet in other list if both list are pointing to same.This concept is concept of mutable"
   ]
  },
  {
   "cell_type": "code",
   "execution_count": 84,
   "id": "25b6ad6a",
   "metadata": {},
   "outputs": [
    {
     "name": "stdout",
     "output_type": "stream",
     "text": [
      "[5, 2, 3, 4]\n",
      "[5, 2, 3, 4]\n"
     ]
    }
   ],
   "source": [
    "#Mutable concept\n",
    "li = [1,2,3,4]\n",
    "li2 = li\n",
    "li2[0] = 5\n",
    "print(li) #changed in li2 and li also got changed\n",
    "print(li2)"
   ]
  },
  {
   "cell_type": "code",
   "execution_count": 85,
   "id": "2e3f85b3",
   "metadata": {},
   "outputs": [
    {
     "name": "stdout",
     "output_type": "stream",
     "text": [
      "2399005431488\n",
      "2399005355136\n"
     ]
    }
   ],
   "source": [
    "#Immutable concept\n",
    "li = [1,2,3,4]\n",
    "print(id(li))\n",
    "li = [3,3,3,4]\n",
    "print(id(li))"
   ]
  },
  {
   "cell_type": "markdown",
   "id": "53c4a979",
   "metadata": {},
   "source": [
    "## Passing variable to functions"
   ]
  },
  {
   "cell_type": "code",
   "execution_count": 89,
   "id": "dbca0ef9",
   "metadata": {},
   "outputs": [
    {
     "name": "stdout",
     "output_type": "stream",
     "text": [
      "2\n"
     ]
    }
   ],
   "source": [
    "def increment(a):\n",
    "    a = a + 1\n",
    "    return a\n",
    "a = 2\n",
    "increment(a)  #The variable value didn't changed here (Variables are Immutable)\n",
    "print(a)"
   ]
  },
  {
   "cell_type": "markdown",
   "id": "e2fd4fad",
   "metadata": {},
   "source": [
    "## Passing List to functions"
   ]
  },
  {
   "cell_type": "code",
   "execution_count": 88,
   "id": "7b6d7fc4",
   "metadata": {},
   "outputs": [
    {
     "name": "stdout",
     "output_type": "stream",
     "text": [
      "[2, 2, 3, 4]\n"
     ]
    }
   ],
   "source": [
    "def increment(li):\n",
    "    li[0] = li[0] + 1\n",
    "    return \n",
    "li = [1,2,3,4]\n",
    "increment(li)  #The list value got changed (Lists are mutable)\n",
    "print(li)"
   ]
  },
  {
   "cell_type": "markdown",
   "id": "ea858f83",
   "metadata": {},
   "source": [
    "## Swapping"
   ]
  },
  {
   "cell_type": "code",
   "execution_count": 90,
   "id": "48226bfe",
   "metadata": {},
   "outputs": [
    {
     "name": "stdout",
     "output_type": "stream",
     "text": [
      "12\n",
      "10\n"
     ]
    }
   ],
   "source": [
    "a = 10\n",
    "b = 12\n",
    "a,b = b,a\n",
    "print(a)\n",
    "print(b)"
   ]
  },
  {
   "cell_type": "markdown",
   "id": "1df43c59",
   "metadata": {},
   "source": [
    "## Binary Search"
   ]
  },
  {
   "cell_type": "code",
   "execution_count": 103,
   "id": "9cb6f273",
   "metadata": {},
   "outputs": [
    {
     "name": "stdout",
     "output_type": "stream",
     "text": [
      "9\n",
      "1 3 8 9 11 13 70 89 98\n",
      "200\n",
      "-1\n"
     ]
    }
   ],
   "source": [
    "def binarysearch(st,en,li,x):\n",
    "    while(st<en):\n",
    "        mid = (st+en)//2\n",
    "        if(li[mid]==x):\n",
    "            return mid\n",
    "        elif(x<li[mid]):\n",
    "            en = mid - 1\n",
    "        else:\n",
    "            st = mid + 1\n",
    "    return -1\n",
    "n = int(input())\n",
    "li = [int(x) for x in input().split()]\n",
    "li.sort()\n",
    "x = int(input())\n",
    "st = 0\n",
    "en = n - 1\n",
    "index = binarysearch(st,en,li,x)\n",
    "print(index)"
   ]
  },
  {
   "cell_type": "markdown",
   "id": "16c4b4de",
   "metadata": {},
   "source": [
    "## Selection Sort"
   ]
  },
  {
   "cell_type": "code",
   "execution_count": 106,
   "id": "e089f072",
   "metadata": {},
   "outputs": [
    {
     "name": "stdout",
     "output_type": "stream",
     "text": [
      "7\n",
      "1 5 3 7 2 6 0\n",
      "[0, 1, 2, 3, 5, 6, 7]\n"
     ]
    }
   ],
   "source": [
    "n = int(input())\n",
    "li = [int(x) for x in input().split()]\n",
    "minind = 0\n",
    "i = 0\n",
    "j = i + 1\n",
    "while(i<n):\n",
    "    j = i + 1\n",
    "    minind = i\n",
    "    while(j<n):\n",
    "        if(li[j]<li[minind]):\n",
    "            minind = j\n",
    "        j = j + 1\n",
    "    li[i],li[minind] = li[minind],li[i]\n",
    "    i = i + 1\n",
    "print(li)"
   ]
  },
  {
   "cell_type": "markdown",
   "id": "068b7d7e",
   "metadata": {},
   "source": [
    "## Bubble Sort"
   ]
  },
  {
   "cell_type": "code",
   "execution_count": 107,
   "id": "6f240b14",
   "metadata": {},
   "outputs": [
    {
     "name": "stdout",
     "output_type": "stream",
     "text": [
      "7\n",
      "5 3 6 7 1 0 3\n",
      "[0, 1, 3, 3, 5, 6, 7]\n"
     ]
    }
   ],
   "source": [
    "n = int(input())\n",
    "li = [int(x) for x in input().split()]\n",
    "i = 0\n",
    "for i in range(0,n,1):\n",
    "    for j in range(0,n-i-1,1):\n",
    "        if(li[j]>li[j+1]):\n",
    "            li[j],li[j+1] = li[j+1],li[j]\n",
    "print(li)"
   ]
  },
  {
   "cell_type": "markdown",
   "id": "62048316",
   "metadata": {},
   "source": [
    "## Insertion Sort"
   ]
  },
  {
   "cell_type": "code",
   "execution_count": 114,
   "id": "014b51f9",
   "metadata": {},
   "outputs": [
    {
     "name": "stdout",
     "output_type": "stream",
     "text": [
      "7\n",
      "7 6 5 4 3 2 1\n",
      "[1, 2, 3, 4, 5, 6, 7]\n"
     ]
    }
   ],
   "source": [
    "n = int(input())\n",
    "li = [int(x) for x in input().split()]\n",
    "for i in range(0,n,1):\n",
    "    j = i\n",
    "    while(j-1>=0 and li[j-1]>li[j]):\n",
    "        li[j],li[j-1] = li[j-1],li[j]\n",
    "        j = j - 1\n",
    "print(li)"
   ]
  },
  {
   "cell_type": "markdown",
   "id": "bc055a19",
   "metadata": {},
   "source": [
    "## Merge Two Sorted Arrays"
   ]
  },
  {
   "cell_type": "code",
   "execution_count": 115,
   "id": "78db4e24",
   "metadata": {},
   "outputs": [
    {
     "name": "stdout",
     "output_type": "stream",
     "text": [
      "5\n",
      "1 3 5 6 7\n",
      "3\n",
      "1 2 6\n",
      "[1, 1, 2, 3, 5, 6, 6, 7]\n"
     ]
    }
   ],
   "source": [
    "n = int(input())\n",
    "li = [int(x) for x in input().split()]\n",
    "m = int(input())\n",
    "li2 = [int(x) for x in input().split()]\n",
    "i = 0\n",
    "j = 0\n",
    "ans = []\n",
    "while(i<n and j<m):\n",
    "    if(li[i]<li2[j]):\n",
    "        ans.append(li[i])\n",
    "        i = i + 1\n",
    "    else:\n",
    "        ans.append(li2[j])\n",
    "        j = j + 1\n",
    "while(i<n):\n",
    "    ans.append(li[i])\n",
    "    i = i + 1\n",
    "while(j<m):\n",
    "    ans.append(li2[j])\n",
    "    j = j + 1\n",
    "print(ans)"
   ]
  },
  {
   "cell_type": "markdown",
   "id": "aea1542b",
   "metadata": {},
   "source": [
    "## Strings"
   ]
  },
  {
   "cell_type": "markdown",
   "id": "94d60911",
   "metadata": {},
   "source": [
    "Strings is a sequence of unicodes\n"
   ]
  },
  {
   "cell_type": "code",
   "execution_count": 1,
   "id": "4e05ac26",
   "metadata": {},
   "outputs": [
    {
     "name": "stdout",
     "output_type": "stream",
     "text": [
      "Pranjal Pranjal Pranjal Here \n",
      "is our                   \n",
      "multiline code\n"
     ]
    }
   ],
   "source": [
    "s1 = 'Pranjal'\n",
    "s2 = \"Pranjal\"\n",
    "s3 = '''Pranjal'''\n",
    "s4 = '''Here \n",
    "is our                   \n",
    "multiline code'''  #Triple quotes are used for multiline strings\n",
    "print(s1,s2,s3,s4)"
   ]
  },
  {
   "cell_type": "code",
   "execution_count": 2,
   "id": "bd25ea83",
   "metadata": {},
   "outputs": [
    {
     "name": "stdout",
     "output_type": "stream",
     "text": [
      "l   P\n"
     ]
    }
   ],
   "source": [
    "print(s1[-1],' ',s2[0])"
   ]
  },
  {
   "cell_type": "code",
   "execution_count": 6,
   "id": "75ecfb04",
   "metadata": {},
   "outputs": [
    {
     "name": "stdout",
     "output_type": "stream",
     "text": [
      "Pranjal\n"
     ]
    }
   ],
   "source": [
    "a = 'Pranjal'\n",
    "#a[0] = 'A' is not allowed\n",
    "#strings are immutable\n",
    "print(a)"
   ]
  },
  {
   "cell_type": "code",
   "execution_count": 10,
   "id": "259a4913",
   "metadata": {},
   "outputs": [
    {
     "name": "stdout",
     "output_type": "stream",
     "text": [
      "Pranjal in the sky\n"
     ]
    }
   ],
   "source": [
    "s1 = 'Pranjal '\n",
    "s2 = 'in the sky'\n",
    "s1 += s2\n",
    "print(s1)"
   ]
  },
  {
   "cell_type": "code",
   "execution_count": 15,
   "id": "1afd528d",
   "metadata": {},
   "outputs": [
    {
     "name": "stdout",
     "output_type": "stream",
     "text": [
      "BlueBlueBlue\n"
     ]
    }
   ],
   "source": [
    "a = 'Blue'\n",
    "a *= 3\n",
    "print(a)"
   ]
  },
  {
   "cell_type": "markdown",
   "id": "c82f8179",
   "metadata": {},
   "source": [
    "## Slicing of string"
   ]
  },
  {
   "cell_type": "code",
   "execution_count": 17,
   "id": "1c6cb5f9",
   "metadata": {},
   "outputs": [
    {
     "name": "stdout",
     "output_type": "stream",
     "text": [
      "Pran\n",
      "jal\n"
     ]
    }
   ],
   "source": [
    "str = \"Pranjal\"\n",
    "print(str[0:4:1])\n",
    "print(str[4:20:1])"
   ]
  },
  {
   "cell_type": "code",
   "execution_count": 21,
   "id": "1dbebf1f",
   "metadata": {},
   "outputs": [
    {
     "name": "stdout",
     "output_type": "stream",
     "text": [
      "yks eht ni si lajnarP\n"
     ]
    }
   ],
   "source": [
    "str = \"Pranjal is in the sky\"\n",
    "print(str[::-1])"
   ]
  },
  {
   "cell_type": "markdown",
   "id": "0d375bed",
   "metadata": {},
   "source": [
    "## Iterating on string"
   ]
  },
  {
   "cell_type": "code",
   "execution_count": 24,
   "id": "5edde55e",
   "metadata": {},
   "outputs": [
    {
     "name": "stdout",
     "output_type": "stream",
     "text": [
      "P\n",
      "r\n",
      "a\n",
      "n\n",
      "j\n",
      "a\n",
      "l\n"
     ]
    }
   ],
   "source": [
    "str = \"Pranjal\"\n",
    "for i in range(0,len(str),1):\n",
    "    print(str[i])"
   ]
  },
  {
   "cell_type": "code",
   "execution_count": 25,
   "id": "542c3f1c",
   "metadata": {},
   "outputs": [
    {
     "name": "stdout",
     "output_type": "stream",
     "text": [
      "P\n",
      "r\n",
      "a\n",
      "n\n",
      "j\n",
      "a\n",
      "l\n"
     ]
    }
   ],
   "source": [
    "for i in str:\n",
    "    print(i)"
   ]
  },
  {
   "cell_type": "markdown",
   "id": "588d7af9",
   "metadata": {},
   "source": [
    "## In and Not In Operation"
   ]
  },
  {
   "cell_type": "code",
   "execution_count": 27,
   "id": "c19c1077",
   "metadata": {},
   "outputs": [
    {
     "name": "stdout",
     "output_type": "stream",
     "text": [
      "Yes, it is a substring\n",
      "No, it is not there\n"
     ]
    }
   ],
   "source": [
    "str = 'Hello'\n",
    "if 'Hell' in str:\n",
    "    print(\"Yes, it is a substring\")\n",
    "else:\n",
    "    print(\"No, not a substring\")\n",
    "if 'Heo' not in str:\n",
    "    print(\"No, it is not there\")\n",
    "else:\n",
    "    print(\"It is there\")"
   ]
  },
  {
   "cell_type": "markdown",
   "id": "340f7b63",
   "metadata": {},
   "source": [
    "## Comparison operators on string"
   ]
  },
  {
   "cell_type": "markdown",
   "id": "1179686e",
   "metadata": {},
   "source": [
    "= <= >= == < > !="
   ]
  },
  {
   "cell_type": "code",
   "execution_count": 28,
   "id": "6d3a6719",
   "metadata": {},
   "outputs": [
    {
     "name": "stdout",
     "output_type": "stream",
     "text": [
      "True\n"
     ]
    }
   ],
   "source": [
    "a = 'Pranjal' == 'Pranjal'\n",
    "print(a)"
   ]
  },
  {
   "cell_type": "markdown",
   "id": "4027018a",
   "metadata": {},
   "source": [
    " ## Operations on String"
   ]
  },
  {
   "cell_type": "code",
   "execution_count": 30,
   "id": "ced1315a",
   "metadata": {},
   "outputs": [
    {
     "name": "stdout",
     "output_type": "stream",
     "text": [
      "['Pranjal', 'is', 'in the sky']\n"
     ]
    }
   ],
   "source": [
    "#split\n",
    "str = \"Pranjal is in the sky\"\n",
    "li = str.split(' ',2) #If I am passing 2 then it will split into 2 items\n",
    "print(li)"
   ]
  },
  {
   "cell_type": "code",
   "execution_count": 34,
   "id": "45f22fab",
   "metadata": {},
   "outputs": [
    {
     "name": "stdout",
     "output_type": "stream",
     "text": [
      "Pranjal is in the ground\n",
      "Prmnj Prmnj Pranjal\n"
     ]
    }
   ],
   "source": [
    "#replace\n",
    "str = \"Pranjal is in the sky\"\n",
    "str = str.replace('sky','ground')\n",
    "str = str.replace('grass','leash')\n",
    "str2 = \"Pranjal Pranjal Pranjal\"\n",
    "str2 = str2.replace('Pranjal','Prmnj',2) #by default it will change only one\n",
    "print(str)\n",
    "print(str2)"
   ]
  },
  {
   "cell_type": "code",
   "execution_count": 37,
   "id": "3e5fecb1",
   "metadata": {},
   "outputs": [
    {
     "name": "stdout",
     "output_type": "stream",
     "text": [
      "3\n",
      "-1\n",
      "3\n"
     ]
    }
   ],
   "source": [
    "#find\n",
    "str = \"My name is Pranjal\"\n",
    "index = str.find(\"na\")\n",
    "print(index)\n",
    "index = str.find(\"Nae\")\n",
    "print(index)\n",
    "index = str.find(\"na\",3,8)  #I am trying to find na in between index 3 to 8\n",
    "print(index)"
   ]
  },
  {
   "cell_type": "code",
   "execution_count": 39,
   "id": "2b66fd21",
   "metadata": {},
   "outputs": [
    {
     "name": "stdout",
     "output_type": "stream",
     "text": [
      "pranjal\n",
      "PRANJAL\n"
     ]
    }
   ],
   "source": [
    "#lower and upper\n",
    "str = \"PranjaL\"\n",
    "str = str.lower()\n",
    "print(str)\n",
    "str = str.upper()\n",
    "print(str)"
   ]
  },
  {
   "cell_type": "code",
   "execution_count": 43,
   "id": "475341f1",
   "metadata": {},
   "outputs": [
    {
     "name": "stdout",
     "output_type": "stream",
     "text": [
      "True\n",
      "True\n",
      "True\n"
     ]
    }
   ],
   "source": [
    "#starts with\n",
    "str = \"My name\"\n",
    "ans = str.startswith(\"M\")\n",
    "print(ans)\n",
    "ans = str.startswith(\"My na\")\n",
    "print(ans)\n",
    "ans = str.startswith(\"me\",5,8)\n",
    "print(ans)"
   ]
  },
  {
   "cell_type": "markdown",
   "id": "a8e2e6e4",
   "metadata": {},
   "source": [
    "## Replacing in string"
   ]
  },
  {
   "cell_type": "code",
   "execution_count": 2,
   "id": "e02f6016",
   "metadata": {},
   "outputs": [
    {
     "name": "stdout",
     "output_type": "stream",
     "text": [
      "aaabbccdsa\n",
      "a3b2c2dsa\n"
     ]
    }
   ],
   "source": [
    "#Compress the string\n",
    "def compress(strg):\n",
    "    count = [0]*256\n",
    "    ans = ''\n",
    "    currentcharcount = 1\n",
    "    ans += strg[0]\n",
    "    for i in range(1,len(strg)):\n",
    "        if(strg[i]==strg[i-1]):\n",
    "            currentcharcount+=1\n",
    "        else:\n",
    "            if(currentcharcount>1):\n",
    "                ans+=str(currentcharcount)\n",
    "                currentcharcount = 1\n",
    "            ans+=strg[i]\n",
    "    if(currentcharcount>1):\n",
    "        ans+=str(currentcharcount)\n",
    "    return ans\n",
    "strg = input()\n",
    "strg = compress(strg)\n",
    "print(strg)"
   ]
  },
  {
   "cell_type": "markdown",
   "id": "416e99b7",
   "metadata": {},
   "source": [
    "## Two Dimensional List"
   ]
  },
  {
   "cell_type": "code",
   "execution_count": 3,
   "id": "9a69186c",
   "metadata": {},
   "outputs": [
    {
     "name": "stdout",
     "output_type": "stream",
     "text": [
      "4\n",
      "<class 'list'>\n",
      "[[1, 2, 3, 4], [2, 3, 4, 5], [3, 4, 5, 6], [5, 5, 6, 7]]\n"
     ]
    }
   ],
   "source": [
    "#lists are mutable\n",
    "li = [[1,2,3,4],[2,3,4,5],[3,4,5,6],[4,5,6,7]]\n",
    "print(li[3][0])\n",
    "li[3][0] = 5\n",
    "print(type(li))\n",
    "print(li)"
   ]
  },
  {
   "cell_type": "markdown",
   "id": "ff4b981c",
   "metadata": {},
   "source": [
    "li stores address of an array. That array stores addresses of another lists. For example, li[0] stores address of li[0][0]. In this manner it works."
   ]
  },
  {
   "cell_type": "code",
   "execution_count": 7,
   "id": "ea0b59fb",
   "metadata": {},
   "outputs": [
    {
     "name": "stdout",
     "output_type": "stream",
     "text": [
      "2729917160128\n",
      "2729917159104\n",
      "140703473346352\n",
      "[[1, 2, 3, 4], 'Pranjal', [3, 4, 5, 6], [4, 5, 6, 7]]\n"
     ]
    }
   ],
   "source": [
    "li = [[1,2,3,4],[2,3,4,5],[3,4,5,6],[4,5,6,7]]\n",
    "print(id(li))\n",
    "print(id(li[0]))\n",
    "print(id(li[0][0]))\n",
    "li[1] = \"Pranjal\"\n",
    "print(li) #Now this is not a 2D list"
   ]
  },
  {
   "cell_type": "markdown",
   "id": "477b67f2",
   "metadata": {},
   "source": [
    "##  Jagged Lists"
   ]
  },
  {
   "cell_type": "code",
   "execution_count": 8,
   "id": "1548bf24",
   "metadata": {},
   "outputs": [
    {
     "name": "stdout",
     "output_type": "stream",
     "text": [
      "[[1, 2, 3, 4, 5], [1, 2], [1, 2, 3, 4]]\n",
      "<class 'list'>\n"
     ]
    }
   ],
   "source": [
    "#Not the size of all lists are same\n",
    "li = [[1,2,3,4,5],[1,2],[1,2,3,4]]\n",
    "print(li)\n",
    "print(type(li))"
   ]
  },
  {
   "cell_type": "markdown",
   "id": "40b3f77b",
   "metadata": {},
   "source": [
    "## List Comprehension"
   ]
  },
  {
   "cell_type": "code",
   "execution_count": 11,
   "id": "92364cd0",
   "metadata": {},
   "outputs": [
    {
     "name": "stdout",
     "output_type": "stream",
     "text": [
      "[1, 4, 9, 16, 36, 49, 16, 4, 100]\n"
     ]
    }
   ],
   "source": [
    "li = [1,2,3,4,6,7,4,2,10]\n",
    "li_new = [ele**2 for ele in li]  #They say it power of Python\n",
    "print(li_new)"
   ]
  },
  {
   "cell_type": "code",
   "execution_count": 12,
   "id": "1185e4ac",
   "metadata": {},
   "outputs": [
    {
     "name": "stdout",
     "output_type": "stream",
     "text": [
      "[4, 16, 36, 16, 4, 100]\n"
     ]
    }
   ],
   "source": [
    "li_new = [ele**2 for ele in li if ele%2==0]  #li[output for (condition)]\n",
    "print(li_new)"
   ]
  },
  {
   "cell_type": "code",
   "execution_count": 13,
   "id": "28ceaf9c",
   "metadata": {},
   "outputs": [
    {
     "name": "stdout",
     "output_type": "stream",
     "text": [
      "[2, 4, 2]\n"
     ]
    }
   ],
   "source": [
    "li1 = [2,3,5,7,8,4,2]\n",
    "li2 = [6,1,6,2,4,9]\n",
    "li_new = [ele for ele in li1 for ele2 in li2 if ele==ele2]\n",
    "print(li_new)"
   ]
  },
  {
   "cell_type": "markdown",
   "id": "1ad2ef8c",
   "metadata": {},
   "source": [
    "li = [output forloops condition]"
   ]
  },
  {
   "cell_type": "code",
   "execution_count": 15,
   "id": "040c56eb",
   "metadata": {},
   "outputs": [
    {
     "name": "stdout",
     "output_type": "stream",
     "text": [
      "[1, 4, 3, 16, 5, 36, 7, 100]\n"
     ]
    }
   ],
   "source": [
    "li = [1,2,3,4,5,6,7,10]\n",
    "li_new = [ele if ele%2==1 else ele**2 for ele in li]\n",
    "print(li_new)"
   ]
  },
  {
   "cell_type": "code",
   "execution_count": 17,
   "id": "a6e216ab",
   "metadata": {},
   "outputs": [
    {
     "name": "stdout",
     "output_type": "stream",
     "text": [
      "[80, 114, 97, 110, 106, 97, 108]\n"
     ]
    }
   ],
   "source": [
    "str = \"Pranjal\"\n",
    "li = [ord(ele) for ele in str]\n",
    "print(li)"
   ]
  },
  {
   "cell_type": "code",
   "execution_count": 22,
   "id": "82811e0b",
   "metadata": {},
   "outputs": [
    {
     "name": "stdout",
     "output_type": "stream",
     "text": [
      "3\n",
      "[[1, 4, 3, 16, 5], [1, 4], [1, 4, 3, 16]]\n"
     ]
    }
   ],
   "source": [
    "li = [[1,2,3,4,5],[1,2],[1,2,3,4]]\n",
    "print(len(li))\n",
    "li_new = [[ele if ele%2==1 else ele**2 for ele in s] for s in li]\n",
    "print(li_new)"
   ]
  },
  {
   "cell_type": "markdown",
   "id": "220699f5",
   "metadata": {},
   "source": [
    "## Taking input of 2-D Lists"
   ]
  },
  {
   "cell_type": "code",
   "execution_count": 26,
   "id": "a7c44219",
   "metadata": {},
   "outputs": [
    {
     "name": "stdout",
     "output_type": "stream",
     "text": [
      "3 4\n",
      "1 2 3 4\n",
      "2 3 4 5\n",
      "3 4 5 6\n",
      "[[1, 2, 3, 4], [2, 3, 4, 5], [3, 4, 5, 6]]\n"
     ]
    }
   ],
   "source": [
    "n,m = [int(x) for x in input().split()]\n",
    "li = [[int(x) for x in input().split()] for i in range(n)]\n",
    "print(li)"
   ]
  },
  {
   "cell_type": "markdown",
   "id": "96aad8ff",
   "metadata": {},
   "source": [
    "Taking input of Jagged lists"
   ]
  },
  {
   "cell_type": "code",
   "execution_count": 27,
   "id": "d362473d",
   "metadata": {},
   "outputs": [
    {
     "name": "stdout",
     "output_type": "stream",
     "text": [
      "3\n",
      "1 2 3 4\n",
      "1 2\n",
      "1 2 3 4 5 6\n",
      "[[1, 2, 3, 4], [1, 2], [1, 2, 3, 4, 5, 6]]\n"
     ]
    }
   ],
   "source": [
    "n = int(input())\n",
    "li = [[int(x) for x in input().split()] for i in range(n)]\n",
    "print(li)"
   ]
  },
  {
   "cell_type": "markdown",
   "id": "9e760159",
   "metadata": {},
   "source": [
    "Taking inputs in different manner"
   ]
  },
  {
   "cell_type": "code",
   "execution_count": 32,
   "id": "b4695ccd",
   "metadata": {},
   "outputs": [
    {
     "name": "stdout",
     "output_type": "stream",
     "text": [
      "3 4\n",
      "1 2 3 4 5 6 7 8 9 10 11 12\n",
      "[[1, 2, 3, 4], [5, 6, 7, 8], [9, 10, 11, 12]]\n"
     ]
    }
   ],
   "source": [
    "#3 4\n",
    "# 1 2 3 4 5 6 7 8 9 10 11 12\n",
    "n,m = [int(x) for x in input().split()]\n",
    "splitedstring = input().split()\n",
    "arr = [[int(splitedstring[m*i+j]) for j in range(m)]for i in range(n)]\n",
    "print(arr)"
   ]
  },
  {
   "cell_type": "code",
   "execution_count": 34,
   "id": "a976e7fe",
   "metadata": {},
   "outputs": [
    {
     "name": "stdout",
     "output_type": "stream",
     "text": [
      "3 4 1 2 3 4 5 6 7 8 9 10 11 12\n",
      "[[1, 2, 3, 4], [5, 6, 7, 8], [9, 10, 11, 12]]\n"
     ]
    }
   ],
   "source": [
    "#3 4 1 2 3 4 5 6 7 8 9 10 11 12\n",
    "str = input().split()\n",
    "n,m = int(str[0]),int(str[1])\n",
    "b = str[2:]\n",
    "arr = [[int(b[m*i+j]) for j in range(m)] for i in range(n)]\n",
    "print(arr)"
   ]
  },
  {
   "cell_type": "markdown",
   "id": "7b1be599",
   "metadata": {},
   "source": [
    "## Iterating on 2-D Lists"
   ]
  },
  {
   "cell_type": "code",
   "execution_count": 35,
   "id": "c145731b",
   "metadata": {},
   "outputs": [
    {
     "name": "stdout",
     "output_type": "stream",
     "text": [
      "3 4 1 2 3 4 5 6 7 8 9 10 11 12\n",
      "[[1, 2, 3, 4], [5, 6, 7, 8], [9, 10, 11, 12]]\n"
     ]
    }
   ],
   "source": [
    "str = input().split()\n",
    "n,m = int(str[0]),int(str[1])\n",
    "b = str[2:]\n",
    "arr = [[int(b[m*i+j]) for j in range(m)] for i in range(n)]\n",
    "print(arr)"
   ]
  },
  {
   "cell_type": "markdown",
   "id": "f3f520dc",
   "metadata": {},
   "source": [
    "## Join "
   ]
  },
  {
   "cell_type": "code",
   "execution_count": 43,
   "id": "8b840957",
   "metadata": {},
   "outputs": [
    {
     "name": "stdout",
     "output_type": "stream",
     "text": [
      "aabbabcabd\n"
     ]
    }
   ],
   "source": [
    "strg = \"ab\".join(\"abcd\") #Joins ab in end of each element besides the ending one\n",
    "print(strg)"
   ]
  },
  {
   "cell_type": "code",
   "execution_count": null,
   "id": "31739436",
   "metadata": {},
   "outputs": [],
   "source": [
    "li = [[1,2,3,4],[2,3,4],[1,2]]\n",
    "for row in li:\n",
    "    p = ' '.join(str(ele) for ele in row)\n",
    "    print(p)\n",
    "#1 2 3 4\n",
    "#2 3 4\n",
    "#1 2"
   ]
  },
  {
   "cell_type": "markdown",
   "id": "bd8fb4a1",
   "metadata": {},
   "source": [
    "## Tuples"
   ]
  },
  {
   "cell_type": "code",
   "execution_count": 1,
   "id": "ecd1ab00",
   "metadata": {},
   "outputs": [
    {
     "name": "stdout",
     "output_type": "stream",
     "text": [
      "<class 'list'>\n",
      "<class 'tuple'>\n"
     ]
    }
   ],
   "source": [
    "#Tuples are similar thing to lists declared with a round brackets\n",
    "a = [1,2]\n",
    "print(type(a))\n",
    "b = (1,2)\n",
    "print(type(b))"
   ]
  },
  {
   "cell_type": "code",
   "execution_count": 4,
   "id": "ececa95b",
   "metadata": {},
   "outputs": [
    {
     "name": "stdout",
     "output_type": "stream",
     "text": [
      "(1, 3, 4, 6, 7, 8, 10, 9)\n",
      "(9, 10, 8, 7, 6, 4, 3, 1)\n",
      "(6, 8)\n"
     ]
    }
   ],
   "source": [
    "e = (1,3,4,6,7,8,10,9)\n",
    "print(e)\n",
    "print(e[::-1])\n",
    "print(e[3:7:2])\n",
    "del e #Deletes the tuple"
   ]
  },
  {
   "cell_type": "markdown",
   "id": "f9f60149",
   "metadata": {},
   "source": [
    "Difference between tuples and lists: Lists are mutable while tuples are immutable"
   ]
  },
  {
   "cell_type": "code",
   "execution_count": 9,
   "id": "2b94dd3f",
   "metadata": {},
   "outputs": [
    {
     "name": "stdout",
     "output_type": "stream",
     "text": [
      "1\n",
      "2\n",
      "3\n",
      "3\n",
      "(1, 2, 3, 4, 5)\n",
      "((1, 2, 3), (4, 5))\n"
     ]
    }
   ],
   "source": [
    "a = (1,2,3)\n",
    "for i in a:\n",
    "    print(i)\n",
    "2 in a #Finding an element in tuple\n",
    "print(len(a))\n",
    "b = 4,5  #It is also a tuple\n",
    "c = a + b\n",
    "print(c)\n",
    "d = (a,b)\n",
    "print(d)"
   ]
  },
  {
   "cell_type": "code",
   "execution_count": 10,
   "id": "0404327e",
   "metadata": {},
   "outputs": [
    {
     "name": "stdout",
     "output_type": "stream",
     "text": [
      "1\n",
      "5\n"
     ]
    }
   ],
   "source": [
    "print(min(a))\n",
    "print(max(b))"
   ]
  },
  {
   "cell_type": "code",
   "execution_count": 13,
   "id": "89a3716b",
   "metadata": {},
   "outputs": [
    {
     "name": "stdout",
     "output_type": "stream",
     "text": [
      "1\n"
     ]
    }
   ],
   "source": [
    "a = (1,2.2) #but min(a) where a = (1,2,'Sep') is not allowed\n",
    "print(min(a))"
   ]
  },
  {
   "cell_type": "markdown",
   "id": "9b2fd362",
   "metadata": {},
   "source": [
    "## Passing variable length input and output to function"
   ]
  },
  {
   "cell_type": "code",
   "execution_count": 23,
   "id": "06a37802",
   "metadata": {},
   "outputs": [
    {
     "data": {
      "text/plain": [
       "28"
      ]
     },
     "execution_count": 23,
     "metadata": {},
     "output_type": "execute_result"
    }
   ],
   "source": [
    "def sum(a,b,*more):\n",
    "    ans = a + b\n",
    "    for ele in more:\n",
    "        ans += ele\n",
    "    return ans\n",
    "sum(1,2,3,4,5,6,7)"
   ]
  },
  {
   "cell_type": "code",
   "execution_count": 24,
   "id": "676a8dfe",
   "metadata": {},
   "outputs": [
    {
     "name": "stdout",
     "output_type": "stream",
     "text": [
      "(5, 1)\n"
     ]
    }
   ],
   "source": [
    "def sum_diff(a,b):\n",
    "    return a+b,a-b\n",
    "print(sum_diff(3,2)) #Is outputing a tuple"
   ]
  },
  {
   "cell_type": "markdown",
   "id": "7295fe75",
   "metadata": {},
   "source": [
    "## Dictionary"
   ]
  },
  {
   "cell_type": "code",
   "execution_count": 30,
   "id": "8fe9a35a",
   "metadata": {},
   "outputs": [
    {
     "name": "stdout",
     "output_type": "stream",
     "text": [
      "{}\n",
      "<class 'dict'>\n",
      "the\n",
      "100\n",
      "2.2\n",
      "<class 'dict'>\n"
     ]
    }
   ],
   "source": [
    "a = {}\n",
    "print(a)\n",
    "print(type(a))\n",
    "a = {\"the\":3,100:2,2.2:5}\n",
    "for ele in a:\n",
    "    print(ele)\n",
    "print(type(a))"
   ]
  },
  {
   "cell_type": "code",
   "execution_count": 32,
   "id": "63d28ebd",
   "metadata": {},
   "outputs": [
    {
     "name": "stdout",
     "output_type": "stream",
     "text": [
      "{1: 4, 'the': 5}\n",
      "{'the': 3, 100: 2, 2.2: 5}\n",
      "{'abc': None, 32: None, 4: None}\n"
     ]
    }
   ],
   "source": [
    "b = dict([(1,4),('the',5)])\n",
    "print(b)\n",
    "c = a.copy()\n",
    "print(c)\n",
    "d = dict.fromkeys(['abc',32,4])\n",
    "print(d)"
   ]
  },
  {
   "cell_type": "markdown",
   "id": "786770f0",
   "metadata": {},
   "source": [
    "Dictionaries are mutable"
   ]
  },
  {
   "cell_type": "markdown",
   "id": "b0c0ae72",
   "metadata": {},
   "source": [
    "## Accesing a dictionary"
   ]
  },
  {
   "cell_type": "code",
   "execution_count": 37,
   "id": "48c103c2",
   "metadata": {},
   "outputs": [
    {
     "name": "stdout",
     "output_type": "stream",
     "text": [
      "[1, 23]\n",
      "2\n",
      "{1: 2}\n",
      "None\n",
      "-1\n"
     ]
    }
   ],
   "source": [
    "a = {1:2,3:4,\"list\":[1,23],\"dict\":{1:2}}\n",
    "print(a['list'])\n",
    "print(a[1])\n",
    "print(a.get('dict'))\n",
    "print(a.get('this will not give error'))\n",
    "print(a.get('you can return something else',-1))"
   ]
  },
  {
   "cell_type": "code",
   "execution_count": 38,
   "id": "5815e15d",
   "metadata": {},
   "outputs": [
    {
     "data": {
      "text/plain": [
       "dict_keys([1, 3, 'list', 'dict'])"
      ]
     },
     "execution_count": 38,
     "metadata": {},
     "output_type": "execute_result"
    }
   ],
   "source": [
    "a.keys()"
   ]
  },
  {
   "cell_type": "code",
   "execution_count": 39,
   "id": "dfd220ba",
   "metadata": {},
   "outputs": [
    {
     "data": {
      "text/plain": [
       "dict_values([2, 4, [1, 23], {1: 2}])"
      ]
     },
     "execution_count": 39,
     "metadata": {},
     "output_type": "execute_result"
    }
   ],
   "source": [
    "a.values()"
   ]
  },
  {
   "cell_type": "code",
   "execution_count": 40,
   "id": "c9efb879",
   "metadata": {},
   "outputs": [
    {
     "data": {
      "text/plain": [
       "dict_items([(1, 2), (3, 4), ('list', [1, 23]), ('dict', {1: 2})])"
      ]
     },
     "execution_count": 40,
     "metadata": {},
     "output_type": "execute_result"
    }
   ],
   "source": [
    "a.items()"
   ]
  },
  {
   "cell_type": "code",
   "execution_count": 41,
   "id": "14960f83",
   "metadata": {},
   "outputs": [
    {
     "name": "stdout",
     "output_type": "stream",
     "text": [
      "1 2\n",
      "3 4\n",
      "list [1, 23]\n",
      "dict {1: 2}\n"
     ]
    }
   ],
   "source": [
    "for ele in a:\n",
    "    print(ele,a[ele])"
   ]
  },
  {
   "cell_type": "code",
   "execution_count": 42,
   "id": "4218bd36",
   "metadata": {},
   "outputs": [
    {
     "name": "stdout",
     "output_type": "stream",
     "text": [
      "2\n",
      "4\n",
      "[1, 23]\n",
      "{1: 2}\n"
     ]
    }
   ],
   "source": [
    "for i in a.values():\n",
    "    print(i)"
   ]
  },
  {
   "cell_type": "code",
   "execution_count": 43,
   "id": "e0071324",
   "metadata": {},
   "outputs": [
    {
     "name": "stdout",
     "output_type": "stream",
     "text": [
      "1\n",
      "3\n",
      "list\n",
      "dict\n"
     ]
    }
   ],
   "source": [
    "for i in a.keys():\n",
    "    print(i)"
   ]
  },
  {
   "cell_type": "code",
   "execution_count": 48,
   "id": "d157cb6d",
   "metadata": {},
   "outputs": [
    {
     "name": "stdout",
     "output_type": "stream",
     "text": [
      "True\n",
      "False\n"
     ]
    }
   ],
   "source": [
    "print('list' in a)\n",
    "print(2 in a)"
   ]
  },
  {
   "cell_type": "markdown",
   "id": "fc052c6f",
   "metadata": {},
   "source": [
    "## Updating data in dictionary"
   ]
  },
  {
   "cell_type": "code",
   "execution_count": 49,
   "id": "9e25cbfd",
   "metadata": {},
   "outputs": [
    {
     "data": {
      "text/plain": [
       "{1: 2, 3: 4, 'list': [1, 23], 'dict': {1: 2}, 9: 1}"
      ]
     },
     "execution_count": 49,
     "metadata": {},
     "output_type": "execute_result"
    }
   ],
   "source": [
    "a = {1:2,3:4,\"list\":[1,23],\"dict\":{1:2}}\n",
    "a[9] = 1\n",
    "#We added an element"
   ]
  },
  {
   "cell_type": "code",
   "execution_count": 50,
   "id": "368f4ae3",
   "metadata": {},
   "outputs": [
    {
     "data": {
      "text/plain": [
       "{1: 10, 3: 4, 'list': [1, 23], 'dict': {1: 2}, 9: 1}"
      ]
     },
     "execution_count": 50,
     "metadata": {},
     "output_type": "execute_result"
    }
   ],
   "source": [
    "a[1] = 10\n",
    "#We updated data"
   ]
  },
  {
   "cell_type": "code",
   "execution_count": 52,
   "id": "99070589",
   "metadata": {},
   "outputs": [
    {
     "name": "stdout",
     "output_type": "stream",
     "text": [
      "{1: 10, 3: 5, 'list': [1, 23], 'dict': {1: 2}, 9: 1, 'the': 1000}\n"
     ]
    }
   ],
   "source": [
    "b = {3:5,'the':1000}\n",
    "a.update(b)\n",
    "print(a)\n",
    "#We can update one dictionary with help of other"
   ]
  },
  {
   "cell_type": "code",
   "execution_count": 54,
   "id": "9c03a493",
   "metadata": {},
   "outputs": [
    {
     "name": "stdout",
     "output_type": "stream",
     "text": [
      "{3: 5, 'list': [1, 23], 'dict': {1: 2}, 9: 1}\n"
     ]
    }
   ],
   "source": [
    "a.pop('the')\n",
    "print(a)"
   ]
  },
  {
   "cell_type": "code",
   "execution_count": 55,
   "id": "34c4d97b",
   "metadata": {},
   "outputs": [
    {
     "name": "stdout",
     "output_type": "stream",
     "text": [
      "{'list': [1, 23], 'dict': {1: 2}, 9: 1}\n"
     ]
    }
   ],
   "source": [
    "del a[3]\n",
    "print(a)"
   ]
  },
  {
   "cell_type": "code",
   "execution_count": 56,
   "id": "24db535a",
   "metadata": {},
   "outputs": [],
   "source": [
    "del a\n",
    "#Dictionary is gone forever"
   ]
  },
  {
   "cell_type": "markdown",
   "id": "4b1a9c76",
   "metadata": {},
   "source": [
    "## Sets"
   ]
  },
  {
   "cell_type": "code",
   "execution_count": 19,
   "id": "151bf20e",
   "metadata": {},
   "outputs": [
    {
     "name": "stdout",
     "output_type": "stream",
     "text": [
      "<class 'set'>\n",
      "{2.2, 'mango', 5, 'apple'}\n"
     ]
    }
   ],
   "source": [
    "a = {'apple','mango',5,2.2,5} #Does not allow duplicates\n",
    "print(type(a))\n",
    "print(a)"
   ]
  },
  {
   "cell_type": "code",
   "execution_count": 20,
   "id": "b1f096e0",
   "metadata": {},
   "outputs": [
    {
     "name": "stdout",
     "output_type": "stream",
     "text": [
      "True\n"
     ]
    },
    {
     "data": {
      "text/plain": [
       "4"
      ]
     },
     "execution_count": 20,
     "metadata": {},
     "output_type": "execute_result"
    }
   ],
   "source": [
    "print('apple' in a)\n",
    "len(a)"
   ]
  },
  {
   "cell_type": "code",
   "execution_count": 21,
   "id": "0e0b2519",
   "metadata": {},
   "outputs": [
    {
     "name": "stdout",
     "output_type": "stream",
     "text": [
      "{2.2, 'mango', 5, 'apple', 'temp'}\n",
      "{2.2, 'mango', 5, 'abc', 78, 'apple', 'temp'}\n"
     ]
    }
   ],
   "source": [
    "a.add('temp') #Adding elements in a\n",
    "print(a)\n",
    "b = {'abc',78}\n",
    "a.update(b)\n",
    "print(a)"
   ]
  },
  {
   "cell_type": "code",
   "execution_count": 22,
   "id": "e8bd058d",
   "metadata": {},
   "outputs": [
    {
     "name": "stdout",
     "output_type": "stream",
     "text": [
      "{2.2, 'mango', 5, 'apple', 'temp'}\n",
      "{2.2, 'mango', 5, 'temp'}\n"
     ]
    }
   ],
   "source": [
    "a.remove('abc')  #The value which is not there is not allowed\n",
    "a.remove(78)\n",
    "print(a)\n",
    "a.discard('apple')  #The value which is not there is allowed\n",
    "a.discard(\"plum\")\n",
    "print(a)"
   ]
  },
  {
   "cell_type": "code",
   "execution_count": 23,
   "id": "875852f4",
   "metadata": {},
   "outputs": [
    {
     "data": {
      "text/plain": [
       "2.2"
      ]
     },
     "execution_count": 23,
     "metadata": {},
     "output_type": "execute_result"
    }
   ],
   "source": [
    "a.pop()"
   ]
  },
  {
   "cell_type": "code",
   "execution_count": 24,
   "id": "5c9ea3bb",
   "metadata": {},
   "outputs": [
    {
     "name": "stdout",
     "output_type": "stream",
     "text": [
      "set()\n"
     ]
    }
   ],
   "source": [
    "a.clear()\n",
    "print(a)\n",
    "del a"
   ]
  },
  {
   "cell_type": "markdown",
   "id": "7c039aed",
   "metadata": {},
   "source": [
    "## Functions related to sets"
   ]
  },
  {
   "cell_type": "code",
   "execution_count": 38,
   "id": "dbdb7190",
   "metadata": {},
   "outputs": [
    {
     "data": {
      "text/plain": [
       "{3, 4}"
      ]
     },
     "execution_count": 38,
     "metadata": {},
     "output_type": "execute_result"
    }
   ],
   "source": [
    "a = {1,2,3,4}\n",
    "b = {3,4,5,6}\n",
    "a.intersection(b)"
   ]
  },
  {
   "cell_type": "code",
   "execution_count": 26,
   "id": "9d0be73a",
   "metadata": {},
   "outputs": [
    {
     "data": {
      "text/plain": [
       "{1, 2, 3, 4, 5, 6}"
      ]
     },
     "execution_count": 26,
     "metadata": {},
     "output_type": "execute_result"
    }
   ],
   "source": [
    "a.union(b)"
   ]
  },
  {
   "cell_type": "code",
   "execution_count": 29,
   "id": "360da4b9",
   "metadata": {},
   "outputs": [
    {
     "name": "stdout",
     "output_type": "stream",
     "text": [
      "{1, 2}\n",
      "{5, 6}\n"
     ]
    }
   ],
   "source": [
    "print(a.difference(b))\n",
    "print(b.difference(a))"
   ]
  },
  {
   "cell_type": "code",
   "execution_count": 32,
   "id": "9372369c",
   "metadata": {},
   "outputs": [
    {
     "name": "stdout",
     "output_type": "stream",
     "text": [
      "{1, 2, 5, 6}\n",
      "{1, 2, 5, 6}\n"
     ]
    }
   ],
   "source": [
    "print(a.symmetric_difference(b))\n",
    "print(b.symmetric_difference(a))"
   ]
  },
  {
   "cell_type": "code",
   "execution_count": 36,
   "id": "dc6a45cd",
   "metadata": {},
   "outputs": [
    {
     "name": "stdout",
     "output_type": "stream",
     "text": [
      "{3, 4}\n"
     ]
    }
   ],
   "source": [
    "a.intersection_update(b)\n",
    "print(a)"
   ]
  },
  {
   "cell_type": "code",
   "execution_count": 39,
   "id": "54e58e5b",
   "metadata": {},
   "outputs": [
    {
     "data": {
      "text/plain": [
       "False"
      ]
     },
     "execution_count": 39,
     "metadata": {},
     "output_type": "execute_result"
    }
   ],
   "source": [
    "a.issubset(b)"
   ]
  },
  {
   "cell_type": "code",
   "execution_count": 40,
   "id": "71eb022c",
   "metadata": {},
   "outputs": [
    {
     "data": {
      "text/plain": [
       "False"
      ]
     },
     "execution_count": 40,
     "metadata": {},
     "output_type": "execute_result"
    }
   ],
   "source": [
    "a.isdisjoint(b) #They have something in common"
   ]
  },
  {
   "cell_type": "markdown",
   "id": "22a3cd39",
   "metadata": {},
   "source": [
    "# THE END"
   ]
  }
 ],
 "metadata": {
  "kernelspec": {
   "display_name": "Python 3",
   "language": "python",
   "name": "python3"
  },
  "language_info": {
   "codemirror_mode": {
    "name": "ipython",
    "version": 3
   },
   "file_extension": ".py",
   "mimetype": "text/x-python",
   "name": "python",
   "nbconvert_exporter": "python",
   "pygments_lexer": "ipython3",
   "version": "3.8.8"
  }
 },
 "nbformat": 4,
 "nbformat_minor": 5
}
